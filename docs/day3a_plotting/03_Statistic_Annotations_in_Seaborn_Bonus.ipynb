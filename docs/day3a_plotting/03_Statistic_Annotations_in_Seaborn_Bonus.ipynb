{
  "cells": [
    {
      "cell_type": "markdown",
      "metadata": {
        "id": "-TM003HVDmy9"
      },
      "source": [
        "# Adding Statistic Annotations"
      ]
    },
    {
      "cell_type": "markdown",
      "metadata": {
        "id": "fpPtZgqIvuXz"
      },
      "source": [
        "Sources and inspiration:\n",
        "\n",
        "\n",
        "*   https://www.kaggle.com/code/tirendazacademy/penguin-dataset-data-visualization-with-seaborn#Penguin-Dataset:-Data-Visualization-with-Seaborn\n",
        "*   https://seaborn.pydata.org/tutorial/categorical.html\n",
        "* https://pandas.pydata.org/docs/user_guide/visualization.html\n",
        "* https://levelup.gitconnected.com/statistics-on-seaborn-plots-with-statannotations-2bfce0394c00\n",
        "\n"
      ]
    },
    {
      "cell_type": "markdown",
      "metadata": {
        "id": "E_OiailfvxsI"
      },
      "source": [
        "If running this from Google Colab, uncomment the cell below and run it. Otherwise, just skip it."
      ]
    },
    {
      "cell_type": "code",
      "execution_count": 1,
      "metadata": {
        "colab": {
          "base_uri": "https://localhost:8080/"
        },
        "id": "5saSBc40voZF",
        "outputId": "027ee0a4-7bf1-4324-c12f-24f6563d9951"
      },
      "outputs": [],
      "source": [
        "# !pip install watermark\n",
        "# !pip install statannotations"
      ]
    },
    {
      "cell_type": "markdown",
      "metadata": {
        "id": "y2Wl1yTAY1dp"
      },
      "source": [
        "## Seaborn with statistics annotations"
      ]
    },
    {
      "cell_type": "markdown",
      "metadata": {
        "id": "mKQgwkRfRA-q"
      },
      "source": [
        "### Introduction\n",
        "\n",
        "Many libraries are available in Python to clean, analyze, and plot data.\n",
        "Python also has robust statistical packages which are used by thousands of other projects.\n",
        "\n",
        "That said, if you wish, basically, to add statistics to your plots, with the beautiful brackets as you can see in papers\n",
        "using R or other statistical software, there are not many options.\n",
        "\n",
        "\n",
        "In this part, we will use `statannotations`, a package to add statistical significance annotations on seaborn\n",
        "categorical plots.\n",
        "\n",
        "We will first setup the required tools, then describe the dataset we'll work on."
      ]
    },
    {
      "cell_type": "markdown",
      "metadata": {
        "id": "t2uiAYgNRJig"
      },
      "source": [
        "Specifically, after showing how to install and import statannotations, we will answer the following questions:\n",
        "- How to add custom annotations to a seaborn plot?\n",
        "- How to automatically format previously computed p-values in several different ways, then add these to a plot in a\n",
        "  single function call?\n",
        "- How to both perform the statistical tests and add their results to a plot, optionally applying a multiple comparisons\n",
        "  correction method?"
      ]
    },
    {
      "cell_type": "markdown",
      "metadata": {
        "id": "fWt2Xu4LRKQR"
      },
      "source": [
        "**DISCLAIMER**: This tutorial aims to describe *how to use a plot annotation library, not to teach statistics*. The\n",
        "examples are meant only to illustrate the plots, not the statistical methodology, and we will not draw any conclusions\n",
        "about the dataset explored.\n",
        "\n",
        "A correct approach would have required the careful definition of a research question based, evaluation how the data acquisitions and\n",
        "maybe, ultimately, different group comparisons and/or tests. Of course, the p-value is not the right answer for\n",
        "everything either. *But the aim is to learn how to aproach this so you can later easily reuse the notebooks, charts and even share it with your research!*"
      ]
    },
    {
      "cell_type": "markdown",
      "metadata": {
        "id": "Kd-U89tEqFp_"
      },
      "source": [
        "### Preparing the tools\n",
        "First, let's prepare the tools we'll need, namely `pandas`, `numpy`, `pyplot`, `scipy`, and of course `seaborn`, plus a\n",
        "few additional functions."
      ]
    },
    {
      "cell_type": "markdown",
      "metadata": {
        "id": "LHZ9Z3lUqFqA"
      },
      "source": [
        "#### Imports"
      ]
    },
    {
      "cell_type": "code",
      "execution_count": 2,
      "metadata": {
        "id": "cgfXd-tzqFqA",
        "pycharm": {
          "name": "#%%\n"
        }
      },
      "outputs": [],
      "source": [
        "import matplotlib.pyplot as plt\n",
        "import pandas as pd\n",
        "import seaborn as sns\n",
        "\n",
        "\n",
        "import numpy as np\n",
        "from scipy.stats import mannwhitneyu, normaltest"
      ]
    },
    {
      "cell_type": "markdown",
      "metadata": {
        "id": "S6iEqqjO_PUS"
      },
      "source": [
        "Clean Penguins dataset"
      ]
    },
    {
      "cell_type": "code",
      "execution_count": 3,
      "metadata": {
        "id": "A6Gi_GYV-8Dm"
      },
      "outputs": [],
      "source": [
        "penguins = sns.load_dataset(\"penguins\")\n",
        "penguins_cleaned = penguins.dropna()"
      ]
    },
    {
      "cell_type": "markdown",
      "metadata": {
        "id": "1nof0GrHSlKH"
      },
      "source": [
        "### Exploring the Data\n",
        "\n",
        "We already prepared the penguin dataset with `penguins_cleaned = penguins.dropna()`, but we should double check."
      ]
    },
    {
      "cell_type": "code",
      "execution_count": 4,
      "metadata": {
        "colab": {
          "base_uri": "https://localhost:8080/"
        },
        "id": "t1uqIFnqsLe-",
        "outputId": "66e97d1c-f024-4529-954c-5d9d39f91bc6"
      },
      "outputs": [
        {
          "data": {
            "text/plain": [
              "species              0\n",
              "island               0\n",
              "bill_length_mm       0\n",
              "bill_depth_mm        0\n",
              "flipper_length_mm    0\n",
              "body_mass_g          0\n",
              "sex                  0\n",
              "dtype: int64"
            ]
          },
          "execution_count": 4,
          "metadata": {},
          "output_type": "execute_result"
        }
      ],
      "source": [
        "penguins_cleaned.isnull().sum()"
      ]
    },
    {
      "cell_type": "code",
      "execution_count": 5,
      "metadata": {
        "colab": {
          "base_uri": "https://localhost:8080/",
          "height": 206
        },
        "id": "fGN_N1SwTLTQ",
        "outputId": "56f38fbc-04e6-4578-cd70-bc06778f25f9"
      },
      "outputs": [
        {
          "data": {
            "text/html": [
              "<div>\n",
              "<style scoped>\n",
              "    .dataframe tbody tr th:only-of-type {\n",
              "        vertical-align: middle;\n",
              "    }\n",
              "\n",
              "    .dataframe tbody tr th {\n",
              "        vertical-align: top;\n",
              "    }\n",
              "\n",
              "    .dataframe thead th {\n",
              "        text-align: right;\n",
              "    }\n",
              "</style>\n",
              "<table border=\"1\" class=\"dataframe\">\n",
              "  <thead>\n",
              "    <tr style=\"text-align: right;\">\n",
              "      <th></th>\n",
              "      <th>species</th>\n",
              "      <th>island</th>\n",
              "      <th>bill_length_mm</th>\n",
              "      <th>bill_depth_mm</th>\n",
              "      <th>flipper_length_mm</th>\n",
              "      <th>body_mass_g</th>\n",
              "      <th>sex</th>\n",
              "    </tr>\n",
              "  </thead>\n",
              "  <tbody>\n",
              "    <tr>\n",
              "      <th>0</th>\n",
              "      <td>Adelie</td>\n",
              "      <td>Torgersen</td>\n",
              "      <td>39.1</td>\n",
              "      <td>18.7</td>\n",
              "      <td>181.0</td>\n",
              "      <td>3750.0</td>\n",
              "      <td>Male</td>\n",
              "    </tr>\n",
              "    <tr>\n",
              "      <th>1</th>\n",
              "      <td>Adelie</td>\n",
              "      <td>Torgersen</td>\n",
              "      <td>39.5</td>\n",
              "      <td>17.4</td>\n",
              "      <td>186.0</td>\n",
              "      <td>3800.0</td>\n",
              "      <td>Female</td>\n",
              "    </tr>\n",
              "    <tr>\n",
              "      <th>2</th>\n",
              "      <td>Adelie</td>\n",
              "      <td>Torgersen</td>\n",
              "      <td>40.3</td>\n",
              "      <td>18.0</td>\n",
              "      <td>195.0</td>\n",
              "      <td>3250.0</td>\n",
              "      <td>Female</td>\n",
              "    </tr>\n",
              "    <tr>\n",
              "      <th>4</th>\n",
              "      <td>Adelie</td>\n",
              "      <td>Torgersen</td>\n",
              "      <td>36.7</td>\n",
              "      <td>19.3</td>\n",
              "      <td>193.0</td>\n",
              "      <td>3450.0</td>\n",
              "      <td>Female</td>\n",
              "    </tr>\n",
              "    <tr>\n",
              "      <th>5</th>\n",
              "      <td>Adelie</td>\n",
              "      <td>Torgersen</td>\n",
              "      <td>39.3</td>\n",
              "      <td>20.6</td>\n",
              "      <td>190.0</td>\n",
              "      <td>3650.0</td>\n",
              "      <td>Male</td>\n",
              "    </tr>\n",
              "  </tbody>\n",
              "</table>\n",
              "</div>"
            ],
            "text/plain": [
              "  species     island  bill_length_mm  bill_depth_mm  flipper_length_mm  \\\n",
              "0  Adelie  Torgersen            39.1           18.7              181.0   \n",
              "1  Adelie  Torgersen            39.5           17.4              186.0   \n",
              "2  Adelie  Torgersen            40.3           18.0              195.0   \n",
              "4  Adelie  Torgersen            36.7           19.3              193.0   \n",
              "5  Adelie  Torgersen            39.3           20.6              190.0   \n",
              "\n",
              "   body_mass_g     sex  \n",
              "0       3750.0    Male  \n",
              "1       3800.0  Female  \n",
              "2       3250.0  Female  \n",
              "4       3450.0  Female  \n",
              "5       3650.0    Male  "
            ]
          },
          "execution_count": 5,
          "metadata": {},
          "output_type": "execute_result"
        }
      ],
      "source": [
        "penguins_cleaned.head()"
      ]
    },
    {
      "cell_type": "code",
      "execution_count": 6,
      "metadata": {
        "colab": {
          "base_uri": "https://localhost:8080/"
        },
        "id": "s7OjfV-oTt94",
        "outputId": "245d5629-81a5-4167-a434-de64b5132d87"
      },
      "outputs": [
        {
          "data": {
            "text/plain": [
              "array(['Adelie', 'Chinstrap', 'Gentoo'], dtype=object)"
            ]
          },
          "execution_count": 6,
          "metadata": {},
          "output_type": "execute_result"
        }
      ],
      "source": [
        "penguins_cleaned['species'].unique()"
      ]
    },
    {
      "cell_type": "markdown",
      "metadata": {
        "id": "vdc1o_nRTcdd"
      },
      "source": [
        "From previous section we know that there are 3 species of penquins, which we can compare through some of the values available."
      ]
    },
    {
      "cell_type": "code",
      "execution_count": 7,
      "metadata": {
        "colab": {
          "base_uri": "https://localhost:8080/",
          "height": 143
        },
        "id": "I8JtXQ6cT_2g",
        "outputId": "fec8a6ef-6a41-4021-8ccb-c52741482c5f"
      },
      "outputs": [
        {
          "data": {
            "text/html": [
              "<div>\n",
              "<style scoped>\n",
              "    .dataframe tbody tr th:only-of-type {\n",
              "        vertical-align: middle;\n",
              "    }\n",
              "\n",
              "    .dataframe tbody tr th {\n",
              "        vertical-align: top;\n",
              "    }\n",
              "\n",
              "    .dataframe thead th {\n",
              "        text-align: right;\n",
              "    }\n",
              "</style>\n",
              "<table border=\"1\" class=\"dataframe\">\n",
              "  <thead>\n",
              "    <tr style=\"text-align: right;\">\n",
              "      <th>species</th>\n",
              "      <th>Adelie</th>\n",
              "      <th>Chinstrap</th>\n",
              "      <th>Gentoo</th>\n",
              "    </tr>\n",
              "    <tr>\n",
              "      <th>sex</th>\n",
              "      <th></th>\n",
              "      <th></th>\n",
              "      <th></th>\n",
              "    </tr>\n",
              "  </thead>\n",
              "  <tbody>\n",
              "    <tr>\n",
              "      <th>Female</th>\n",
              "      <td>37.257534</td>\n",
              "      <td>46.573529</td>\n",
              "      <td>45.563793</td>\n",
              "    </tr>\n",
              "    <tr>\n",
              "      <th>Male</th>\n",
              "      <td>40.390411</td>\n",
              "      <td>51.094118</td>\n",
              "      <td>49.473770</td>\n",
              "    </tr>\n",
              "  </tbody>\n",
              "</table>\n",
              "</div>"
            ],
            "text/plain": [
              "species     Adelie  Chinstrap     Gentoo\n",
              "sex                                     \n",
              "Female   37.257534  46.573529  45.563793\n",
              "Male     40.390411  51.094118  49.473770"
            ]
          },
          "execution_count": 7,
          "metadata": {},
          "output_type": "execute_result"
        }
      ],
      "source": [
        "penguins_cleaned.pivot_table('bill_length_mm', index='sex', columns='species', aggfunc='mean')"
      ]
    },
    {
      "cell_type": "code",
      "execution_count": 8,
      "metadata": {
        "id": "jKu-kNKvVEOd"
      },
      "outputs": [],
      "source": [
        "Adelie_values =  penguins_cleaned[penguins_cleaned['species']=='Adelie']\n",
        "Chinstrap_values = penguins_cleaned[penguins_cleaned['species']=='Chinstrap']\n",
        "Gentoo_values = penguins_cleaned[penguins_cleaned['species']=='Gentoo']"
      ]
    },
    {
      "cell_type": "code",
      "execution_count": 9,
      "metadata": {
        "colab": {
          "base_uri": "https://localhost:8080/",
          "height": 300
        },
        "id": "D7-b8W3YVZ4F",
        "outputId": "073d9127-d20a-4f05-d638-52be6dbf6988"
      },
      "outputs": [
        {
          "data": {
            "text/html": [
              "<div>\n",
              "<style scoped>\n",
              "    .dataframe tbody tr th:only-of-type {\n",
              "        vertical-align: middle;\n",
              "    }\n",
              "\n",
              "    .dataframe tbody tr th {\n",
              "        vertical-align: top;\n",
              "    }\n",
              "\n",
              "    .dataframe thead th {\n",
              "        text-align: right;\n",
              "    }\n",
              "</style>\n",
              "<table border=\"1\" class=\"dataframe\">\n",
              "  <thead>\n",
              "    <tr style=\"text-align: right;\">\n",
              "      <th></th>\n",
              "      <th>bill_length_mm</th>\n",
              "      <th>bill_depth_mm</th>\n",
              "      <th>flipper_length_mm</th>\n",
              "      <th>body_mass_g</th>\n",
              "    </tr>\n",
              "  </thead>\n",
              "  <tbody>\n",
              "    <tr>\n",
              "      <th>count</th>\n",
              "      <td>146.000000</td>\n",
              "      <td>146.000000</td>\n",
              "      <td>146.000000</td>\n",
              "      <td>146.000000</td>\n",
              "    </tr>\n",
              "    <tr>\n",
              "      <th>mean</th>\n",
              "      <td>38.823973</td>\n",
              "      <td>18.347260</td>\n",
              "      <td>190.102740</td>\n",
              "      <td>3706.164384</td>\n",
              "    </tr>\n",
              "    <tr>\n",
              "      <th>std</th>\n",
              "      <td>2.662597</td>\n",
              "      <td>1.219338</td>\n",
              "      <td>6.521825</td>\n",
              "      <td>458.620135</td>\n",
              "    </tr>\n",
              "    <tr>\n",
              "      <th>min</th>\n",
              "      <td>32.100000</td>\n",
              "      <td>15.500000</td>\n",
              "      <td>172.000000</td>\n",
              "      <td>2850.000000</td>\n",
              "    </tr>\n",
              "    <tr>\n",
              "      <th>25%</th>\n",
              "      <td>36.725000</td>\n",
              "      <td>17.500000</td>\n",
              "      <td>186.000000</td>\n",
              "      <td>3362.500000</td>\n",
              "    </tr>\n",
              "    <tr>\n",
              "      <th>50%</th>\n",
              "      <td>38.850000</td>\n",
              "      <td>18.400000</td>\n",
              "      <td>190.000000</td>\n",
              "      <td>3700.000000</td>\n",
              "    </tr>\n",
              "    <tr>\n",
              "      <th>75%</th>\n",
              "      <td>40.775000</td>\n",
              "      <td>19.000000</td>\n",
              "      <td>195.000000</td>\n",
              "      <td>4000.000000</td>\n",
              "    </tr>\n",
              "    <tr>\n",
              "      <th>max</th>\n",
              "      <td>46.000000</td>\n",
              "      <td>21.500000</td>\n",
              "      <td>210.000000</td>\n",
              "      <td>4775.000000</td>\n",
              "    </tr>\n",
              "  </tbody>\n",
              "</table>\n",
              "</div>"
            ],
            "text/plain": [
              "       bill_length_mm  bill_depth_mm  flipper_length_mm  body_mass_g\n",
              "count      146.000000     146.000000         146.000000   146.000000\n",
              "mean        38.823973      18.347260         190.102740  3706.164384\n",
              "std          2.662597       1.219338           6.521825   458.620135\n",
              "min         32.100000      15.500000         172.000000  2850.000000\n",
              "25%         36.725000      17.500000         186.000000  3362.500000\n",
              "50%         38.850000      18.400000         190.000000  3700.000000\n",
              "75%         40.775000      19.000000         195.000000  4000.000000\n",
              "max         46.000000      21.500000         210.000000  4775.000000"
            ]
          },
          "execution_count": 9,
          "metadata": {},
          "output_type": "execute_result"
        }
      ],
      "source": [
        "Adelie_values.describe()"
      ]
    },
    {
      "cell_type": "code",
      "execution_count": 10,
      "metadata": {
        "colab": {
          "base_uri": "https://localhost:8080/",
          "height": 300
        },
        "id": "It7rckCZVbme",
        "outputId": "4c406834-c2e3-4937-a3ed-f00ecc441d0e"
      },
      "outputs": [
        {
          "data": {
            "text/html": [
              "<div>\n",
              "<style scoped>\n",
              "    .dataframe tbody tr th:only-of-type {\n",
              "        vertical-align: middle;\n",
              "    }\n",
              "\n",
              "    .dataframe tbody tr th {\n",
              "        vertical-align: top;\n",
              "    }\n",
              "\n",
              "    .dataframe thead th {\n",
              "        text-align: right;\n",
              "    }\n",
              "</style>\n",
              "<table border=\"1\" class=\"dataframe\">\n",
              "  <thead>\n",
              "    <tr style=\"text-align: right;\">\n",
              "      <th></th>\n",
              "      <th>bill_length_mm</th>\n",
              "      <th>bill_depth_mm</th>\n",
              "      <th>flipper_length_mm</th>\n",
              "      <th>body_mass_g</th>\n",
              "    </tr>\n",
              "  </thead>\n",
              "  <tbody>\n",
              "    <tr>\n",
              "      <th>count</th>\n",
              "      <td>68.000000</td>\n",
              "      <td>68.000000</td>\n",
              "      <td>68.000000</td>\n",
              "      <td>68.000000</td>\n",
              "    </tr>\n",
              "    <tr>\n",
              "      <th>mean</th>\n",
              "      <td>48.833824</td>\n",
              "      <td>18.420588</td>\n",
              "      <td>195.823529</td>\n",
              "      <td>3733.088235</td>\n",
              "    </tr>\n",
              "    <tr>\n",
              "      <th>std</th>\n",
              "      <td>3.339256</td>\n",
              "      <td>1.135395</td>\n",
              "      <td>7.131894</td>\n",
              "      <td>384.335081</td>\n",
              "    </tr>\n",
              "    <tr>\n",
              "      <th>min</th>\n",
              "      <td>40.900000</td>\n",
              "      <td>16.400000</td>\n",
              "      <td>178.000000</td>\n",
              "      <td>2700.000000</td>\n",
              "    </tr>\n",
              "    <tr>\n",
              "      <th>25%</th>\n",
              "      <td>46.350000</td>\n",
              "      <td>17.500000</td>\n",
              "      <td>191.000000</td>\n",
              "      <td>3487.500000</td>\n",
              "    </tr>\n",
              "    <tr>\n",
              "      <th>50%</th>\n",
              "      <td>49.550000</td>\n",
              "      <td>18.450000</td>\n",
              "      <td>196.000000</td>\n",
              "      <td>3700.000000</td>\n",
              "    </tr>\n",
              "    <tr>\n",
              "      <th>75%</th>\n",
              "      <td>51.075000</td>\n",
              "      <td>19.400000</td>\n",
              "      <td>201.000000</td>\n",
              "      <td>3950.000000</td>\n",
              "    </tr>\n",
              "    <tr>\n",
              "      <th>max</th>\n",
              "      <td>58.000000</td>\n",
              "      <td>20.800000</td>\n",
              "      <td>212.000000</td>\n",
              "      <td>4800.000000</td>\n",
              "    </tr>\n",
              "  </tbody>\n",
              "</table>\n",
              "</div>"
            ],
            "text/plain": [
              "       bill_length_mm  bill_depth_mm  flipper_length_mm  body_mass_g\n",
              "count       68.000000      68.000000          68.000000    68.000000\n",
              "mean        48.833824      18.420588         195.823529  3733.088235\n",
              "std          3.339256       1.135395           7.131894   384.335081\n",
              "min         40.900000      16.400000         178.000000  2700.000000\n",
              "25%         46.350000      17.500000         191.000000  3487.500000\n",
              "50%         49.550000      18.450000         196.000000  3700.000000\n",
              "75%         51.075000      19.400000         201.000000  3950.000000\n",
              "max         58.000000      20.800000         212.000000  4800.000000"
            ]
          },
          "execution_count": 10,
          "metadata": {},
          "output_type": "execute_result"
        }
      ],
      "source": [
        "Chinstrap_values.describe()"
      ]
    },
    {
      "cell_type": "code",
      "execution_count": 11,
      "metadata": {
        "colab": {
          "base_uri": "https://localhost:8080/",
          "height": 300
        },
        "id": "6q-3KASyVdcF",
        "outputId": "cfec526d-69bf-4a51-a53b-9f71f6bcf0ef"
      },
      "outputs": [
        {
          "data": {
            "text/html": [
              "<div>\n",
              "<style scoped>\n",
              "    .dataframe tbody tr th:only-of-type {\n",
              "        vertical-align: middle;\n",
              "    }\n",
              "\n",
              "    .dataframe tbody tr th {\n",
              "        vertical-align: top;\n",
              "    }\n",
              "\n",
              "    .dataframe thead th {\n",
              "        text-align: right;\n",
              "    }\n",
              "</style>\n",
              "<table border=\"1\" class=\"dataframe\">\n",
              "  <thead>\n",
              "    <tr style=\"text-align: right;\">\n",
              "      <th></th>\n",
              "      <th>bill_length_mm</th>\n",
              "      <th>bill_depth_mm</th>\n",
              "      <th>flipper_length_mm</th>\n",
              "      <th>body_mass_g</th>\n",
              "    </tr>\n",
              "  </thead>\n",
              "  <tbody>\n",
              "    <tr>\n",
              "      <th>count</th>\n",
              "      <td>119.000000</td>\n",
              "      <td>119.000000</td>\n",
              "      <td>119.000000</td>\n",
              "      <td>119.000000</td>\n",
              "    </tr>\n",
              "    <tr>\n",
              "      <th>mean</th>\n",
              "      <td>47.568067</td>\n",
              "      <td>14.996639</td>\n",
              "      <td>217.235294</td>\n",
              "      <td>5092.436975</td>\n",
              "    </tr>\n",
              "    <tr>\n",
              "      <th>std</th>\n",
              "      <td>3.106116</td>\n",
              "      <td>0.985998</td>\n",
              "      <td>6.585431</td>\n",
              "      <td>501.476154</td>\n",
              "    </tr>\n",
              "    <tr>\n",
              "      <th>min</th>\n",
              "      <td>40.900000</td>\n",
              "      <td>13.100000</td>\n",
              "      <td>203.000000</td>\n",
              "      <td>3950.000000</td>\n",
              "    </tr>\n",
              "    <tr>\n",
              "      <th>25%</th>\n",
              "      <td>45.350000</td>\n",
              "      <td>14.200000</td>\n",
              "      <td>212.000000</td>\n",
              "      <td>4700.000000</td>\n",
              "    </tr>\n",
              "    <tr>\n",
              "      <th>50%</th>\n",
              "      <td>47.400000</td>\n",
              "      <td>15.000000</td>\n",
              "      <td>216.000000</td>\n",
              "      <td>5050.000000</td>\n",
              "    </tr>\n",
              "    <tr>\n",
              "      <th>75%</th>\n",
              "      <td>49.600000</td>\n",
              "      <td>15.750000</td>\n",
              "      <td>221.500000</td>\n",
              "      <td>5500.000000</td>\n",
              "    </tr>\n",
              "    <tr>\n",
              "      <th>max</th>\n",
              "      <td>59.600000</td>\n",
              "      <td>17.300000</td>\n",
              "      <td>231.000000</td>\n",
              "      <td>6300.000000</td>\n",
              "    </tr>\n",
              "  </tbody>\n",
              "</table>\n",
              "</div>"
            ],
            "text/plain": [
              "       bill_length_mm  bill_depth_mm  flipper_length_mm  body_mass_g\n",
              "count      119.000000     119.000000         119.000000   119.000000\n",
              "mean        47.568067      14.996639         217.235294  5092.436975\n",
              "std          3.106116       0.985998           6.585431   501.476154\n",
              "min         40.900000      13.100000         203.000000  3950.000000\n",
              "25%         45.350000      14.200000         212.000000  4700.000000\n",
              "50%         47.400000      15.000000         216.000000  5050.000000\n",
              "75%         49.600000      15.750000         221.500000  5500.000000\n",
              "max         59.600000      17.300000         231.000000  6300.000000"
            ]
          },
          "execution_count": 11,
          "metadata": {},
          "output_type": "execute_result"
        }
      ],
      "source": [
        "Gentoo_values.describe()"
      ]
    },
    {
      "cell_type": "markdown",
      "metadata": {
        "id": "Euj0Xzg2WpUy"
      },
      "source": [
        "Or, we can use `for` loop to describe our data for each unique species value. It will help us to get some insight, even though we might later need `DataFrame` for each of the species."
      ]
    },
    {
      "cell_type": "code",
      "execution_count": 12,
      "metadata": {
        "colab": {
          "base_uri": "https://localhost:8080/"
        },
        "id": "9D3YAuAAVj-t",
        "outputId": "d16bf4b6-ef87-4d4c-dd60-0eb9a2273196"
      },
      "outputs": [
        {
          "name": "stdout",
          "output_type": "stream",
          "text": [
            "Adelie\n",
            "       bill_length_mm  bill_depth_mm  flipper_length_mm  body_mass_g\n",
            "count      146.000000     146.000000         146.000000   146.000000\n",
            "mean        38.823973      18.347260         190.102740  3706.164384\n",
            "std          2.662597       1.219338           6.521825   458.620135\n",
            "min         32.100000      15.500000         172.000000  2850.000000\n",
            "25%         36.725000      17.500000         186.000000  3362.500000\n",
            "50%         38.850000      18.400000         190.000000  3700.000000\n",
            "75%         40.775000      19.000000         195.000000  4000.000000\n",
            "max         46.000000      21.500000         210.000000  4775.000000\n",
            "--------------\n",
            "Chinstrap\n",
            "       bill_length_mm  bill_depth_mm  flipper_length_mm  body_mass_g\n",
            "count       68.000000      68.000000          68.000000    68.000000\n",
            "mean        48.833824      18.420588         195.823529  3733.088235\n",
            "std          3.339256       1.135395           7.131894   384.335081\n",
            "min         40.900000      16.400000         178.000000  2700.000000\n",
            "25%         46.350000      17.500000         191.000000  3487.500000\n",
            "50%         49.550000      18.450000         196.000000  3700.000000\n",
            "75%         51.075000      19.400000         201.000000  3950.000000\n",
            "max         58.000000      20.800000         212.000000  4800.000000\n",
            "--------------\n",
            "Gentoo\n",
            "       bill_length_mm  bill_depth_mm  flipper_length_mm  body_mass_g\n",
            "count      119.000000     119.000000         119.000000   119.000000\n",
            "mean        47.568067      14.996639         217.235294  5092.436975\n",
            "std          3.106116       0.985998           6.585431   501.476154\n",
            "min         40.900000      13.100000         203.000000  3950.000000\n",
            "25%         45.350000      14.200000         212.000000  4700.000000\n",
            "50%         47.400000      15.000000         216.000000  5050.000000\n",
            "75%         49.600000      15.750000         221.500000  5500.000000\n",
            "max         59.600000      17.300000         231.000000  6300.000000\n",
            "--------------\n"
          ]
        }
      ],
      "source": [
        "for spec in penguins_cleaned['species'].unique():\n",
        "  print(spec)\n",
        "  print(penguins_cleaned[penguins_cleaned['species']==spec].describe())\n",
        "  print('--------------')"
      ]
    },
    {
      "cell_type": "markdown",
      "metadata": {
        "id": "di_UCUwdXKDb"
      },
      "source": [
        "#### Test normality"
      ]
    },
    {
      "cell_type": "code",
      "execution_count": 13,
      "metadata": {
        "id": "9N0ubMzLXtm6"
      },
      "outputs": [],
      "source": [
        "Adelie_values =  penguins_cleaned[penguins_cleaned['species']=='Adelie']\n",
        "Chinstrap_values = penguins_cleaned[penguins_cleaned['species']=='Chinstrap']\n",
        "Gentoo_values = penguins_cleaned[penguins_cleaned['species']=='Gentoo']"
      ]
    },
    {
      "cell_type": "markdown",
      "metadata": {
        "id": "PVcy5evnYtSL"
      },
      "source": [
        "`normaltest()` test whether a sample differs from a normal distribution.\n",
        "\n",
        "This function tests the null hypothesis that a sample comes from a normal distribution."
      ]
    },
    {
      "cell_type": "markdown",
      "metadata": {
        "id": "WaIMJYl_ZqAp"
      },
      "source": [
        "The p-value range is between 0 and 1,"
      ]
    },
    {
      "cell_type": "code",
      "execution_count": 14,
      "metadata": {
        "colab": {
          "base_uri": "https://localhost:8080/"
        },
        "id": "UO0yB80vqFqO",
        "outputId": "b28ef63a-5da1-4caa-c3fa-9e9aa3d6ea18",
        "pycharm": {
          "name": "#%%\n"
        }
      },
      "outputs": [
        {
          "name": "stdout",
          "output_type": "stream",
          "text": [
            "Adelie:  0.7046667395852243\n",
            "Chinstrap:  0.9143668075479967\n",
            "Gentoo:  0.002785628232779262\n"
          ]
        }
      ],
      "source": [
        "from scipy.stats import normaltest\n",
        "print(\"Adelie: \", normaltest(Adelie_values['bill_length_mm']).pvalue)\n",
        "print(\"Chinstrap: \", normaltest(Chinstrap_values['bill_length_mm']).pvalue)\n",
        "print(\"Gentoo: \", normaltest(Gentoo_values['bill_length_mm']).pvalue)\n"
      ]
    },
    {
      "cell_type": "markdown",
      "metadata": {
        "id": "jR6_9Nn3abKY"
      },
      "source": [
        "Traditionally, in statistics, we need a p-value of less than 0.05 to\n",
        "reject the null hypothesis.  In this case, the 2 out of 3 species have p-value > 0.05.  Because our p value is greater than 0.05, we cannot reject the null hypothesis.  Therefore, we have not proven that the 2 data sets are different from normality.\n",
        "\n",
        "But what about the last?"
      ]
    },
    {
      "cell_type": "markdown",
      "metadata": {
        "id": "liLKelkYa2Sw"
      },
      "source": [
        "Aren't we forgeting something? Do we know enough about the data?"
      ]
    },
    {
      "cell_type": "code",
      "execution_count": 15,
      "metadata": {},
      "outputs": [
        {
          "data": {
            "text/html": [
              "<div>\n",
              "<style scoped>\n",
              "    .dataframe tbody tr th:only-of-type {\n",
              "        vertical-align: middle;\n",
              "    }\n",
              "\n",
              "    .dataframe tbody tr th {\n",
              "        vertical-align: top;\n",
              "    }\n",
              "\n",
              "    .dataframe thead th {\n",
              "        text-align: right;\n",
              "    }\n",
              "</style>\n",
              "<table border=\"1\" class=\"dataframe\">\n",
              "  <thead>\n",
              "    <tr style=\"text-align: right;\">\n",
              "      <th></th>\n",
              "      <th>species</th>\n",
              "      <th>island</th>\n",
              "      <th>bill_length_mm</th>\n",
              "      <th>bill_depth_mm</th>\n",
              "      <th>flipper_length_mm</th>\n",
              "      <th>body_mass_g</th>\n",
              "      <th>sex</th>\n",
              "    </tr>\n",
              "  </thead>\n",
              "  <tbody>\n",
              "    <tr>\n",
              "      <th>0</th>\n",
              "      <td>Adelie</td>\n",
              "      <td>Torgersen</td>\n",
              "      <td>39.1</td>\n",
              "      <td>18.7</td>\n",
              "      <td>181.0</td>\n",
              "      <td>3750.0</td>\n",
              "      <td>Male</td>\n",
              "    </tr>\n",
              "    <tr>\n",
              "      <th>1</th>\n",
              "      <td>Adelie</td>\n",
              "      <td>Torgersen</td>\n",
              "      <td>39.5</td>\n",
              "      <td>17.4</td>\n",
              "      <td>186.0</td>\n",
              "      <td>3800.0</td>\n",
              "      <td>Female</td>\n",
              "    </tr>\n",
              "    <tr>\n",
              "      <th>2</th>\n",
              "      <td>Adelie</td>\n",
              "      <td>Torgersen</td>\n",
              "      <td>40.3</td>\n",
              "      <td>18.0</td>\n",
              "      <td>195.0</td>\n",
              "      <td>3250.0</td>\n",
              "      <td>Female</td>\n",
              "    </tr>\n",
              "    <tr>\n",
              "      <th>4</th>\n",
              "      <td>Adelie</td>\n",
              "      <td>Torgersen</td>\n",
              "      <td>36.7</td>\n",
              "      <td>19.3</td>\n",
              "      <td>193.0</td>\n",
              "      <td>3450.0</td>\n",
              "      <td>Female</td>\n",
              "    </tr>\n",
              "    <tr>\n",
              "      <th>5</th>\n",
              "      <td>Adelie</td>\n",
              "      <td>Torgersen</td>\n",
              "      <td>39.3</td>\n",
              "      <td>20.6</td>\n",
              "      <td>190.0</td>\n",
              "      <td>3650.0</td>\n",
              "      <td>Male</td>\n",
              "    </tr>\n",
              "    <tr>\n",
              "      <th>...</th>\n",
              "      <td>...</td>\n",
              "      <td>...</td>\n",
              "      <td>...</td>\n",
              "      <td>...</td>\n",
              "      <td>...</td>\n",
              "      <td>...</td>\n",
              "      <td>...</td>\n",
              "    </tr>\n",
              "    <tr>\n",
              "      <th>338</th>\n",
              "      <td>Gentoo</td>\n",
              "      <td>Biscoe</td>\n",
              "      <td>47.2</td>\n",
              "      <td>13.7</td>\n",
              "      <td>214.0</td>\n",
              "      <td>4925.0</td>\n",
              "      <td>Female</td>\n",
              "    </tr>\n",
              "    <tr>\n",
              "      <th>340</th>\n",
              "      <td>Gentoo</td>\n",
              "      <td>Biscoe</td>\n",
              "      <td>46.8</td>\n",
              "      <td>14.3</td>\n",
              "      <td>215.0</td>\n",
              "      <td>4850.0</td>\n",
              "      <td>Female</td>\n",
              "    </tr>\n",
              "    <tr>\n",
              "      <th>341</th>\n",
              "      <td>Gentoo</td>\n",
              "      <td>Biscoe</td>\n",
              "      <td>50.4</td>\n",
              "      <td>15.7</td>\n",
              "      <td>222.0</td>\n",
              "      <td>5750.0</td>\n",
              "      <td>Male</td>\n",
              "    </tr>\n",
              "    <tr>\n",
              "      <th>342</th>\n",
              "      <td>Gentoo</td>\n",
              "      <td>Biscoe</td>\n",
              "      <td>45.2</td>\n",
              "      <td>14.8</td>\n",
              "      <td>212.0</td>\n",
              "      <td>5200.0</td>\n",
              "      <td>Female</td>\n",
              "    </tr>\n",
              "    <tr>\n",
              "      <th>343</th>\n",
              "      <td>Gentoo</td>\n",
              "      <td>Biscoe</td>\n",
              "      <td>49.9</td>\n",
              "      <td>16.1</td>\n",
              "      <td>213.0</td>\n",
              "      <td>5400.0</td>\n",
              "      <td>Male</td>\n",
              "    </tr>\n",
              "  </tbody>\n",
              "</table>\n",
              "<p>333 rows × 7 columns</p>\n",
              "</div>"
            ],
            "text/plain": [
              "    species     island  bill_length_mm  bill_depth_mm  flipper_length_mm  \\\n",
              "0    Adelie  Torgersen            39.1           18.7              181.0   \n",
              "1    Adelie  Torgersen            39.5           17.4              186.0   \n",
              "2    Adelie  Torgersen            40.3           18.0              195.0   \n",
              "4    Adelie  Torgersen            36.7           19.3              193.0   \n",
              "5    Adelie  Torgersen            39.3           20.6              190.0   \n",
              "..      ...        ...             ...            ...                ...   \n",
              "338  Gentoo     Biscoe            47.2           13.7              214.0   \n",
              "340  Gentoo     Biscoe            46.8           14.3              215.0   \n",
              "341  Gentoo     Biscoe            50.4           15.7              222.0   \n",
              "342  Gentoo     Biscoe            45.2           14.8              212.0   \n",
              "343  Gentoo     Biscoe            49.9           16.1              213.0   \n",
              "\n",
              "     body_mass_g     sex  \n",
              "0         3750.0    Male  \n",
              "1         3800.0  Female  \n",
              "2         3250.0  Female  \n",
              "4         3450.0  Female  \n",
              "5         3650.0    Male  \n",
              "..           ...     ...  \n",
              "338       4925.0  Female  \n",
              "340       4850.0  Female  \n",
              "341       5750.0    Male  \n",
              "342       5200.0  Female  \n",
              "343       5400.0    Male  \n",
              "\n",
              "[333 rows x 7 columns]"
            ]
          },
          "execution_count": 15,
          "metadata": {},
          "output_type": "execute_result"
        }
      ],
      "source": [
        "penguins_cleaned"
      ]
    },
    {
      "cell_type": "code",
      "execution_count": 16,
      "metadata": {
        "colab": {
          "base_uri": "https://localhost:8080/",
          "height": 487
        },
        "id": "NTJlvbMybCEo",
        "outputId": "3817e561-f582-44fb-b839-2aac4f53ecea"
      },
      "outputs": [
        {
          "ename": "ValueError",
          "evalue": "Axes(0.125,0.11;0.775x0.77) has no legend attached.",
          "output_type": "error",
          "traceback": [
            "\u001b[1;31m---------------------------------------------------------------------------\u001b[0m",
            "\u001b[1;31mValueError\u001b[0m                                Traceback (most recent call last)",
            "Cell \u001b[1;32mIn[16], line 8\u001b[0m\n\u001b[0;32m      5\u001b[0m \u001b[39m# plt.title(\"Bill Length\", size=20, color=\"red\") # would look wierd\u001b[39;00m\n\u001b[0;32m      6\u001b[0m ax\u001b[39m.\u001b[39mset(title\u001b[39m=\u001b[39m\u001b[39m\"\u001b[39m\u001b[39mBill Length\u001b[39m\u001b[39m\"\u001b[39m)\n\u001b[1;32m----> 8\u001b[0m sns\u001b[39m.\u001b[39;49mmove_legend(\n\u001b[0;32m      9\u001b[0m     ax, \u001b[39m\"\u001b[39;49m\u001b[39mupper center\u001b[39;49m\u001b[39m\"\u001b[39;49m,\n\u001b[0;32m     10\u001b[0m     bbox_to_anchor\u001b[39m=\u001b[39;49m(\u001b[39m.5\u001b[39;49m, \u001b[39m1\u001b[39;49m), ncol\u001b[39m=\u001b[39;49m\u001b[39m3\u001b[39;49m, title\u001b[39m=\u001b[39;49m\u001b[39mNone\u001b[39;49;00m, frameon\u001b[39m=\u001b[39;49m\u001b[39mFalse\u001b[39;49;00m,\n\u001b[0;32m     11\u001b[0m )\n",
            "File \u001b[1;32mc:\\Users\\mazo260d\\mambaforge\\envs\\devbio-napari-clone\\lib\\site-packages\\seaborn\\utils.py:453\u001b[0m, in \u001b[0;36mmove_legend\u001b[1;34m(obj, loc, **kwargs)\u001b[0m\n\u001b[0;32m    451\u001b[0m \u001b[39mif\u001b[39;00m old_legend \u001b[39mis\u001b[39;00m \u001b[39mNone\u001b[39;00m:\n\u001b[0;32m    452\u001b[0m     err \u001b[39m=\u001b[39m \u001b[39mf\u001b[39m\u001b[39m\"\u001b[39m\u001b[39m{\u001b[39;00mobj\u001b[39m}\u001b[39;00m\u001b[39m has no legend attached.\u001b[39m\u001b[39m\"\u001b[39m\n\u001b[1;32m--> 453\u001b[0m     \u001b[39mraise\u001b[39;00m \u001b[39mValueError\u001b[39;00m(err)\n\u001b[0;32m    455\u001b[0m \u001b[39m# Extract the components of the legend we need to reuse\u001b[39;00m\n\u001b[0;32m    456\u001b[0m handles \u001b[39m=\u001b[39m old_legend\u001b[39m.\u001b[39mlegendHandles\n",
            "\u001b[1;31mValueError\u001b[0m: Axes(0.125,0.11;0.775x0.77) has no legend attached."
          ]
        },
        {
          "data": {
            "image/png": "[encoded data removed]",
            "text/plain": [
              "<Figure size 1000x500 with 1 Axes>"
            ]
          },
          "metadata": {},
          "output_type": "display_data"
        }
      ],
      "source": [
        "# Set up the matplotlib figure\n",
        "f, ax = plt.subplots(figsize=(10, 5))\n",
        "\n",
        "sns.histplot(x = \"bill_length_mm\", data = penguins_cleaned)#, binwidth=1, hue=\"species\", kde=True)\n",
        "# plt.title(\"Bill Length\", size=20, color=\"red\") # would look wierd\n",
        "ax.set(title=\"Bill Length\")\n",
        "\n",
        "sns.move_legend(\n",
        "    ax, \"upper center\",\n",
        "    bbox_to_anchor=(.5, 1), ncol=3, title=None, frameon=False,\n",
        ")"
      ]
    },
    {
      "cell_type": "markdown",
      "metadata": {
        "id": "iolWcFn0bgLo"
      },
      "source": [
        "A normal distribution is symmetric about the mean.  \n",
        "A normal distribution also has a specific width for a given height.\n",
        "\n",
        "If you double the height, the width scales proportionally.  However,\n",
        "you could imagine stretching a bell curve out in weird ways without\n",
        "changing its symmetry.  You could have a sharp, pointy distribution,\n",
        "or a fat, boxy one."
      ]
    },
    {
      "cell_type": "code",
      "execution_count": 17,
      "metadata": {
        "colab": {
          "base_uri": "https://localhost:8080/",
          "height": 487
        },
        "id": "JhH952mmbqPn",
        "outputId": "a4ec06e0-3fc1-4bc5-ab9a-17d12e5a6917"
      },
      "outputs": [
        {
          "data": {
            "image/png": "[encoded data removed]",
            "text/plain": [
              "<Figure size 1000x500 with 1 Axes>"
            ]
          },
          "metadata": {},
          "output_type": "display_data"
        }
      ],
      "source": [
        "# Set up the matplotlib figure\n",
        "f, ax = plt.subplots(figsize=(10, 5))\n",
        "\n",
        "sns.histplot(x = \"bill_length_mm\", data = Gentoo_values, binwidth=1, hue=\"sex\", kde=True)\n",
        "# plt.title(\"Bill Length\", size=20, color=\"red\") # would look wierd\n",
        "ax.set(title=\"Bill Length of Gentoo\")\n",
        "\n",
        "sns.move_legend(\n",
        "    ax, \"upper center\",\n",
        "    bbox_to_anchor=(.5, 1), ncol=3, title=None, frameon=False,\n",
        ")"
      ]
    },
    {
      "cell_type": "code",
      "execution_count": 18,
      "metadata": {
        "colab": {
          "base_uri": "https://localhost:8080/"
        },
        "id": "BsPrjqZFcBBv",
        "outputId": "c888c078-f844-4fb3-d9e5-3f84ee4065af"
      },
      "outputs": [
        {
          "name": "stdout",
          "output_type": "stream",
          "text": [
            "Gentoo male:  0.0005453287292381343\n",
            "Gentoo female:  0.9029679515828937\n"
          ]
        }
      ],
      "source": [
        "Gentoo_values_male=Gentoo_values[Gentoo_values.sex=='Male']\n",
        "Gentoo_values_female=Gentoo_values[Gentoo_values.sex=='Female']\n",
        "\n",
        "print(\"Gentoo male: \", normaltest(Gentoo_values_male['bill_length_mm']).pvalue)\n",
        "print(\"Gentoo female: \", normaltest(Gentoo_values_female['bill_length_mm']).pvalue)"
      ]
    },
    {
      "cell_type": "markdown",
      "metadata": {
        "id": "aeaEMo2ac2pN"
      },
      "source": [
        "### Statistics"
      ]
    },
    {
      "cell_type": "markdown",
      "metadata": {
        "id": "Esjlxz45c49X"
      },
      "source": [
        "Luckily we are able to test and compare sets of values, even if they do not come from Normal Distribution"
      ]
    },
    {
      "cell_type": "markdown",
      "metadata": {
        "id": "uwN3p34bcsDF"
      },
      "source": [
        "#### Parametric"
      ]
    },
    {
      "cell_type": "markdown",
      "metadata": {
        "id": "6BUomQcSfbkl"
      },
      "source": [
        "`ttest_ind()` calculates the T-test for the means of two independent samples of scores.\n",
        "\n",
        "This is a test for the null hypothesis that 2 independent samples have identical average (expected) values. This test assumes that the populations have identical variances by default.\n",
        "\n",
        "There is a catch! We need to have either same number of samples, or same variance. `ttest_ind()` can perform a standard independent 2 sample test that assumes equal population variances. If False, perform Welch’s t-test, which does not assume equal population variance.\n",
        "\n",
        "---\n",
        "**Note**\n",
        "*Using Student's original definition of the t-test, the two populations being compared should have the same variance. If the sample sizes in the two groups being compared are equal, Student's original t-test is highly robust to the presence of unequal variances. Welch's t-test is insensitive to equality of the variances regardless of whether the sample sizes are similar.*"
      ]
    },
    {
      "cell_type": "markdown",
      "metadata": {
        "id": "na3ztua1gqrP"
      },
      "source": [
        "Perform Levene test for equal variances.\n",
        "\n",
        "The Levene test tests the null hypothesis that all input samples are from populations with equal variances."
      ]
    },
    {
      "cell_type": "code",
      "execution_count": 19,
      "metadata": {
        "id": "pBrWKB1dgUuk"
      },
      "outputs": [],
      "source": [
        "from scipy.stats import ttest_ind, levene"
      ]
    },
    {
      "cell_type": "code",
      "execution_count": 20,
      "metadata": {
        "colab": {
          "base_uri": "https://localhost:8080/"
        },
        "id": "N8Qy-aPUdJw2",
        "outputId": "6b2439b1-b8e6-40b6-9381-cd40a3299f3e"
      },
      "outputs": [
        {
          "name": "stdout",
          "output_type": "stream",
          "text": [
            "Adelie vs Chinstrap, variance:  LeveneResult(statistic=4.529733833453024, pvalue=0.03446512682844295)\n"
          ]
        }
      ],
      "source": [
        "# pvalues with scipy:\n",
        "stat_results = [levene(Adelie_values['bill_length_mm'], Chinstrap_values['bill_length_mm'])]\n",
        "\n",
        "print(\"Adelie vs Chinstrap, variance: \", stat_results[0])\n",
        "\n",
        "pvalues = [result.pvalue for result in stat_results]"
      ]
    },
    {
      "cell_type": "markdown",
      "metadata": {
        "id": "6azzEtg3iLB6"
      },
      "source": [
        "With p-value < 0.05 , we reject the null hypothesis that all input samples are from populations with equal variances. So we need Welch’s t-test"
      ]
    },
    {
      "cell_type": "markdown",
      "metadata": {
        "id": "foRasXqAjkAp"
      },
      "source": [
        "---\n",
        "Null hypothesis is that 2 independent samples have identical average (expected) values."
      ]
    },
    {
      "cell_type": "code",
      "execution_count": 21,
      "metadata": {
        "colab": {
          "base_uri": "https://localhost:8080/"
        },
        "id": "o1vYC0PniQi7",
        "outputId": "c2c25e97-1a26-4992-82e2-948fa073afd2"
      },
      "outputs": [
        {
          "name": "stdout",
          "output_type": "stream",
          "text": [
            "Adelie vs Chinstrap, mean:  TtestResult(statistic=-21.712498056635937, pvalue=3.1490764303457434e-41, df=108.17221912082128)\n"
          ]
        }
      ],
      "source": [
        "# pvalues with scipy:\n",
        "stat_results_ACh = [ttest_ind(Adelie_values['bill_length_mm'], Chinstrap_values['bill_length_mm'], equal_var=False)]\n",
        "\n",
        "print(\"Adelie vs Chinstrap, mean: \", stat_results_ACh[0])\n",
        "\n",
        "pvalues = [result.pvalue for result in stat_results_ACh]"
      ]
    },
    {
      "cell_type": "markdown",
      "metadata": {
        "id": "hVwFdAUWjtzI"
      },
      "source": [
        "With p-value < 0.05 , we reject the null hypothesis. Now how we can plot this?"
      ]
    },
    {
      "cell_type": "markdown",
      "metadata": {
        "id": "TthTHYeKcuaP"
      },
      "source": [
        "#### Non-parametric"
      ]
    },
    {
      "cell_type": "code",
      "execution_count": 22,
      "metadata": {
        "colab": {
          "base_uri": "https://localhost:8080/"
        },
        "id": "P1AR8Gd2dcpO",
        "outputId": "a3d69ab7-1b1a-4e54-c82c-4ce8ba52478e"
      },
      "outputs": [
        {
          "name": "stdout",
          "output_type": "stream",
          "text": [
            "Gentoo male vs Gentoo female, bill_length_mm:  MannwhitneyuResult(statistic=3125.5, pvalue=5.58594267834405e-13)\n"
          ]
        }
      ],
      "source": [
        "from scipy.stats import mannwhitneyu\n",
        "\n",
        "# pvalues with scipy:\n",
        "stat_results_GFM = [mannwhitneyu(Gentoo_values_male['bill_length_mm'], Gentoo_values_female['bill_length_mm'], alternative=\"two-sided\"),]\n",
        "\n",
        "print(\"Gentoo male vs Gentoo female, bill_length_mm: \", stat_results_GFM[0])\n",
        "\n",
        "pvalues = [result.pvalue for result in stat_results_GFM]"
      ]
    },
    {
      "cell_type": "markdown",
      "metadata": {
        "id": "fyK-kOiXj6Ze"
      },
      "source": [
        "### Statistic annotations"
      ]
    },
    {
      "cell_type": "code",
      "execution_count": 23,
      "metadata": {
        "colab": {
          "base_uri": "https://localhost:8080/"
        },
        "id": "U5uZoPVPjOWG",
        "outputId": "df82a3de-35c0-48d0-ba57-cd54105f88fc"
      },
      "outputs": [],
      "source": [
        "# !pip install statannotations"
      ]
    },
    {
      "cell_type": "code",
      "execution_count": 24,
      "metadata": {
        "id": "dSH6VHomrc4p"
      },
      "outputs": [],
      "source": [
        "from statannotations.Annotator import Annotator"
      ]
    },
    {
      "cell_type": "markdown",
      "metadata": {
        "id": "ayxl3R4BqFqU"
      },
      "source": [
        "## Use statannotations\n",
        "The general pattern is\n",
        "0. Decide which pairs of data you would like to annotate\n",
        "\n",
        "\n",
        "1. Instantiate an `Annotator` (or reuse it on a new plot, we'll cover that later)\n",
        "\n",
        "\n",
        "2. Configure it (text formatting, statistical test, multiple comparisons correction method...)\n",
        "\n",
        "\n",
        "3. Make the annotations (we'll cover these cases)\n",
        "\n",
        "    - By providing completely custom annotations (A)\n",
        "    - By providing pvalues to be formatted before being added to the plot (B)\n",
        "    - By applying a configured test (C)\n",
        "\n",
        "\n",
        "4. Annotate !"
      ]
    },
    {
      "cell_type": "markdown",
      "metadata": {
        "id": "J9KGqEVlqFqU"
      },
      "source": [
        "If we already have a seaborn plot (and its associated `ax`), and statistical results, or any other text we would like to\n",
        " display on the plot, these are the detailed steps required.\n",
        "\n",
        "**STEP 0**: What to compare\n",
        "\n",
        "A pre-requisite to annotating the plot, is deciding which pairs you are comparing.\n",
        "You'll pass which boxes (or bars, violins, etc) you want to annotate in a `pairs` parameter. In this case, it is the\n",
        "equivalent of `'Adelie vs Chinstrap'` and others.\n",
        "\n",
        "For statannotations, we specify this as a list of tuples like `('Adelie', 'Chinstrap')`\n",
        "\n",
        "```python\n",
        "pairs = [('Adelie', 'Chinstrap'),\n",
        "         ('Adelie', 'Gentoo'),\n",
        "         ('Chinstrap', 'Gentoo'),\n",
        "         ]\n",
        "```\n",
        "**STEP 1**: The annotator\n",
        "\n",
        "We now have all we need to instantiate the annotator\n",
        "```python\n",
        "annotator = Annotator(ax, pairs, ...)  # With ... = all parameters passed to seaborn's plotter\n",
        "```\n",
        "\n",
        "**STEP 2**: In this first example, we will not configure anything.\n",
        "\n",
        "**STEP 3**: We'll then add the raw pvalues from scipy's returned values\n",
        "```python\n",
        "\n",
        "pvalues = [mannwhitneyu(Adelie_values['bill_length_mm'], Chinstrap_values['bill_length_mm']).pvalue,\n",
        "           mannwhitneyu(Adelie_values['bill_length_mm'], Gentoo_values['bill_length_mm']).pvalue,\n",
        "           mannwhitneyu(Chinstrap_values['bill_length_mm'], Gentoo_values['bill_length_mm']).pvalue]\n",
        "```\n",
        "using\n",
        "```python\n",
        "annotator.set_custom_annotations(pvalues)\n",
        "```\n",
        "**STEP 4**: Annotate !\n",
        "```python\n",
        "annotator.annotate()\n",
        "```\n",
        "\n",
        "(*) Make sure pairs and annotations (pvalues here) are in the same order"
      ]
    },
    {
      "cell_type": "code",
      "execution_count": 25,
      "metadata": {
        "colab": {
          "base_uri": "https://localhost:8080/",
          "height": 504
        },
        "id": "T6RMakx085Ji",
        "outputId": "a084085e-43fb-4225-c115-9c3d0b2022b7"
      },
      "outputs": [
        {
          "data": {
            "text/plain": [
              "[Text(0.5, 1.0, 'Bill Length for 3 Penguin Species')]"
            ]
          },
          "execution_count": 25,
          "metadata": {},
          "output_type": "execute_result"
        },
        {
          "data": {
            "image/png": "[encoded data removed]",
            "text/plain": [
              "<Figure size 1000x500 with 1 Axes>"
            ]
          },
          "metadata": {},
          "output_type": "display_data"
        }
      ],
      "source": [
        "f, ax = plt.subplots(figsize=(10, 5))\n",
        "\n",
        "sns.boxplot(x = \"sex\",\n",
        "            y = \"bill_length_mm\",\n",
        "            data = Gentoo_values)\n",
        "\n",
        "ax.set(title=\"Bill Length for 3 Penguin Species\")"
      ]
    },
    {
      "cell_type": "code",
      "execution_count": 26,
      "metadata": {
        "colab": {
          "base_uri": "https://localhost:8080/",
          "height": 643
        },
        "id": "ixhXamiy6T67",
        "outputId": "8549b547-ac37-475c-8d87-65aebcd86e33"
      },
      "outputs": [
        {
          "name": "stdout",
          "output_type": "stream",
          "text": [
            "p-value annotation legend:\n",
            "      ns: p <= 1.00e+00\n",
            "       *: 1.00e-02 < p <= 5.00e-02\n",
            "      **: 1.00e-03 < p <= 1.00e-02\n",
            "     ***: 1.00e-04 < p <= 1.00e-03\n",
            "    ****: p <= 1.00e-04\n",
            "\n",
            "Female vs. Male: p=5.59e-13\n"
          ]
        },
        {
          "data": {
            "text/plain": [
              "[Text(0.5, 1.0, 'Bill Length for Gentoo, based on sex')]"
            ]
          },
          "execution_count": 26,
          "metadata": {},
          "output_type": "execute_result"
        },
        {
          "data": {
            "image/png": "[encoded data removed]",
            "text/plain": [
              "<Figure size 1000x500 with 1 Axes>"
            ]
          },
          "metadata": {},
          "output_type": "display_data"
        }
      ],
      "source": [
        "pairs = [('Female', 'Male'),\n",
        "        #  ('data 1', 'data 2'),\n",
        "         ]\n",
        "\n",
        "from scipy.stats import mannwhitneyu\n",
        "\n",
        "# pvalues with scipy, format based on pairs:\n",
        "stat_results_GMF = [mannwhitneyu(Gentoo_values_female['bill_length_mm'], Gentoo_values_male['bill_length_mm'], alternative=\"two-sided\"),]\n",
        "pvalues = [result.pvalue for result in stat_results_GMF]\n",
        "\n",
        "formatted_pvalues = [f\"p={p:.2e}\" for p in pvalues]\n",
        "\n",
        "# Create new plot\n",
        "f, ax = plt.subplots(figsize=(10, 5))\n",
        "\n",
        "plotting_parameters = {\n",
        "    'data':Gentoo_values,\n",
        "    'x':'sex',\n",
        "    'y':'bill_length_mm',\n",
        "}\n",
        "\n",
        "# Plot with seaborn\n",
        "sns.boxplot(**plotting_parameters)\n",
        "\n",
        "# Add annotations\n",
        "annotator = Annotator(ax, pairs, **plotting_parameters)\n",
        "annotator.set_custom_annotations(formatted_pvalues)\n",
        "annotator.annotate()\n",
        "\n",
        "ax.set(title=\"Bill Length for Gentoo, based on sex\")"
      ]
    },
    {
      "cell_type": "markdown",
      "metadata": {
        "id": "OV1g1q3FqFqY"
      },
      "source": [
        "### Use statannotations to apply scipy test"
      ]
    },
    {
      "cell_type": "markdown",
      "metadata": {
        "id": "tEY7A5YlqFqY"
      },
      "source": [
        "Finally, `statannotations` can take care of most of the steps required to run the test by calling `scipy.stats` directly\n",
        "and annotate the plot.\n",
        "The available options are\n",
        "\n",
        "- Mann-Whitney\n",
        "- t-test (independent and paired)\n",
        "- Welch's t-test\n",
        "- Levene test\n",
        "- Wilcoxon test\n",
        "- Kruskal-Wallis test\n",
        "\n",
        "We will cover how to use a test that is not one of those already interfaced in `statannotations`.\n",
        "If you are curious, you can also take a look at the usage\n",
        "[notebook](https://github.com/trevismd/statannotations/blob/master/usage/example.ipynb) in the project repository."
      ]
    },
    {
      "cell_type": "markdown",
      "metadata": {
        "id": "HTqNfcpdCKNr"
      },
      "source": [
        "### Simple"
      ]
    },
    {
      "cell_type": "code",
      "execution_count": 27,
      "metadata": {
        "colab": {
          "base_uri": "https://localhost:8080/",
          "height": 556
        },
        "id": "uNILgwc4_3Uw",
        "outputId": "2ee46cf9-802d-4653-806a-947b2f6aebb1"
      },
      "outputs": [
        {
          "name": "stdout",
          "output_type": "stream",
          "text": [
            "Adelie vs. Chinstrap: Mann-Whitney-Wilcoxon test two-sided, P_val:9.063e-31 U_stat=1.000e+02\n",
            "Chinstrap vs. Gentoo: Mann-Whitney-Wilcoxon test two-sided, P_val:2.947e-03 U_stat=5.105e+03\n",
            "Adelie vs. Gentoo: Mann-Whitney-Wilcoxon test two-sided, P_val:2.022e-42 U_stat=2.160e+02\n"
          ]
        },
        {
          "data": {
            "text/plain": [
              "[Text(0.5, 1.0, 'Bill Length Comparison')]"
            ]
          },
          "execution_count": 27,
          "metadata": {},
          "output_type": "execute_result"
        },
        {
          "data": {
            "image/png": "[encoded data removed]",
            "text/plain": [
              "<Figure size 1000x500 with 1 Axes>"
            ]
          },
          "metadata": {},
          "output_type": "display_data"
        }
      ],
      "source": [
        "# Create new plot\n",
        "f, ax = plt.subplots(figsize=(10, 5))\n",
        "\n",
        "plotting_parameters = {\n",
        "    'data':penguins_cleaned,\n",
        "    'x':'species',\n",
        "    'y':'bill_length_mm',\n",
        "}\n",
        "\n",
        "pairs = [('Adelie', 'Chinstrap'),\n",
        "         ('Adelie', 'Gentoo'),\n",
        "         ('Chinstrap', 'Gentoo'),\n",
        "         ]\n",
        "\n",
        "\n",
        "# Plot with seaborn\n",
        "sns.boxplot(ax=ax, **plotting_parameters)\n",
        "\n",
        "# Add annotations\n",
        "annotator.new_plot(ax, pairs=pairs, **plotting_parameters)\n",
        "annotator.configure(test='Mann-Whitney', text_format=\"simple\", verbose=True).apply_and_annotate()\n",
        "\n",
        "ax.set(title=\"Bill Length Comparison\")"
      ]
    },
    {
      "cell_type": "markdown",
      "metadata": {
        "id": "Nlkn34-xCGjC"
      },
      "source": [
        "### Full"
      ]
    },
    {
      "cell_type": "code",
      "execution_count": 28,
      "metadata": {
        "colab": {
          "base_uri": "https://localhost:8080/",
          "height": 556
        },
        "id": "zOEObtlVA57c",
        "outputId": "d188e044-be5a-4b38-8610-dbe4a7ddc5a9"
      },
      "outputs": [
        {
          "name": "stdout",
          "output_type": "stream",
          "text": [
            "Adelie vs. Chinstrap: Mann-Whitney-Wilcoxon test two-sided, P_val:9.063e-31 U_stat=1.000e+02\n",
            "Chinstrap vs. Gentoo: Mann-Whitney-Wilcoxon test two-sided, P_val:2.947e-03 U_stat=5.105e+03\n",
            "Adelie vs. Gentoo: Mann-Whitney-Wilcoxon test two-sided, P_val:2.022e-42 U_stat=2.160e+02\n"
          ]
        },
        {
          "data": {
            "text/plain": [
              "[Text(0.5, 1.0, 'Bill Length Comparison')]"
            ]
          },
          "execution_count": 28,
          "metadata": {},
          "output_type": "execute_result"
        },
        {
          "data": {
            "image/png": "[encoded data removed]",
            "text/plain": [
              "<Figure size 1000x500 with 1 Axes>"
            ]
          },
          "metadata": {},
          "output_type": "display_data"
        }
      ],
      "source": [
        "# Create new plot\n",
        "f, ax = plt.subplots(figsize=(10, 5))\n",
        "\n",
        "plotting_parameters = {\n",
        "    'data':penguins_cleaned,\n",
        "    'x':'species',\n",
        "    'y':'bill_length_mm',\n",
        "}\n",
        "\n",
        "pairs = [('Adelie', 'Chinstrap'),\n",
        "         ('Adelie', 'Gentoo'),\n",
        "         ('Chinstrap', 'Gentoo'),\n",
        "         ]\n",
        "\n",
        "\n",
        "# Plot with seaborn\n",
        "sns.boxplot(ax=ax, **plotting_parameters)\n",
        "\n",
        "# Add annotations\n",
        "annotator.new_plot(ax, pairs=pairs, **plotting_parameters)\n",
        "annotator.configure(test='Mann-Whitney', text_format=\"full\", verbose=True).apply_and_annotate()\n",
        "\n",
        "ax.set(title=\"Bill Length Comparison\")"
      ]
    },
    {
      "cell_type": "markdown",
      "metadata": {
        "id": "BeRm6H8hCBTi"
      },
      "source": [
        "### Star"
      ]
    },
    {
      "cell_type": "code",
      "execution_count": 29,
      "metadata": {
        "colab": {
          "base_uri": "https://localhost:8080/",
          "height": 678
        },
        "id": "6qbsWRMhA7E2",
        "outputId": "f5232a8d-8719-407c-ad73-3393b3b27450"
      },
      "outputs": [
        {
          "name": "stdout",
          "output_type": "stream",
          "text": [
            "p-value annotation legend:\n",
            "      ns: p <= 1.00e+00\n",
            "       *: 1.00e-02 < p <= 5.00e-02\n",
            "      **: 1.00e-03 < p <= 1.00e-02\n",
            "     ***: 1.00e-04 < p <= 1.00e-03\n",
            "    ****: p <= 1.00e-04\n",
            "\n",
            "Adelie vs. Chinstrap: Mann-Whitney-Wilcoxon test two-sided, P_val:9.063e-31 U_stat=1.000e+02\n",
            "Chinstrap vs. Gentoo: Mann-Whitney-Wilcoxon test two-sided, P_val:2.947e-03 U_stat=5.105e+03\n",
            "Adelie vs. Gentoo: Mann-Whitney-Wilcoxon test two-sided, P_val:2.022e-42 U_stat=2.160e+02\n"
          ]
        },
        {
          "data": {
            "text/plain": [
              "[Text(0.5, 1.0, 'Bill Length Comparison')]"
            ]
          },
          "execution_count": 29,
          "metadata": {},
          "output_type": "execute_result"
        },
        {
          "data": {
            "image/png": "[encoded data removed]",
            "text/plain": [
              "<Figure size 1000x500 with 1 Axes>"
            ]
          },
          "metadata": {},
          "output_type": "display_data"
        }
      ],
      "source": [
        "# Create new plot\n",
        "f, ax = plt.subplots(figsize=(10, 5))\n",
        "\n",
        "plotting_parameters = {\n",
        "    'data':penguins_cleaned,\n",
        "    'x':'species',\n",
        "    'y':'bill_length_mm',\n",
        "}\n",
        "\n",
        "pairs = [('Adelie', 'Chinstrap'),\n",
        "         ('Adelie', 'Gentoo'),\n",
        "         ('Chinstrap', 'Gentoo'),\n",
        "         ]\n",
        "\n",
        "\n",
        "# Plot with seaborn\n",
        "sns.boxplot(ax=ax, **plotting_parameters)\n",
        "\n",
        "# Add annotations\n",
        "annotator.new_plot(ax, pairs=pairs, **plotting_parameters)\n",
        "annotator.configure(test='Mann-Whitney', text_format=\"star\", verbose=True).apply_and_annotate()\n",
        "\n",
        "ax.set(title=\"Bill Length Comparison\")"
      ]
    },
    {
      "cell_type": "code",
      "execution_count": 30,
      "metadata": {
        "colab": {
          "base_uri": "https://localhost:8080/",
          "height": 678
        },
        "id": "6eZcf_W7DCuz",
        "outputId": "15086014-b0e8-4c56-ee6d-ef40ec877760"
      },
      "outputs": [
        {
          "name": "stdout",
          "output_type": "stream",
          "text": [
            "p-value annotation legend:\n",
            "      ns: p <= 1.00e+00\n",
            "       *: 1.00e-02 < p <= 5.00e-02\n",
            "      **: 1.00e-03 < p <= 1.00e-02\n",
            "     ***: 1.00e-04 < p <= 1.00e-03\n",
            "    ****: p <= 1.00e-04\n",
            "\n",
            "Adelie vs. Chinstrap: Mann-Whitney-Wilcoxon test two-sided, P_val:9.063e-31 U_stat=1.000e+02\n",
            "Chinstrap vs. Gentoo: Mann-Whitney-Wilcoxon test two-sided, P_val:2.947e-03 U_stat=5.105e+03\n",
            "Adelie vs. Gentoo: Mann-Whitney-Wilcoxon test two-sided, P_val:2.022e-42 U_stat=2.160e+02\n"
          ]
        },
        {
          "data": {
            "text/plain": [
              "[Text(0.5, 1.0, 'Bill Length Comparison of Penguin Species')]"
            ]
          },
          "execution_count": 30,
          "metadata": {},
          "output_type": "execute_result"
        },
        {
          "data": {
            "image/png": "[encoded data removed]",
            "text/plain": [
              "<Figure size 1000x500 with 1 Axes>"
            ]
          },
          "metadata": {},
          "output_type": "display_data"
        }
      ],
      "source": [
        "# Create new plot\n",
        "f, ax = plt.subplots(figsize=(10, 5))\n",
        "\n",
        "plotting_parameters = {\n",
        "    'data':penguins_cleaned,\n",
        "    'x':'species',\n",
        "    'y':'bill_length_mm',\n",
        "}\n",
        "\n",
        "pairs = [('Adelie', 'Chinstrap'),\n",
        "         ('Adelie', 'Gentoo'),\n",
        "         ('Chinstrap', 'Gentoo'),\n",
        "         ]\n",
        "\n",
        "\n",
        "# Plot with seaborn\n",
        "sns.violinplot(ax=ax, **plotting_parameters)\n",
        "\n",
        "# Add annotations\n",
        "annotator.new_plot(ax, pairs=pairs, **plotting_parameters)\n",
        "annotator.configure(test='Mann-Whitney', text_format=\"star\", verbose=True).apply_and_annotate()\n",
        "\n",
        "ax.set(title=\"Bill Length Comparison of Penguin Species\")"
      ]
    },
    {
      "cell_type": "code",
      "execution_count": 31,
      "metadata": {
        "id": "FWFdMvzuDbkM"
      },
      "outputs": [],
      "source": [
        "f.savefig('violin_annotated_PNG.png', dpi=300)"
      ]
    },
    {
      "cell_type": "markdown",
      "metadata": {
        "id": "wyUoyKXHj2UQ"
      },
      "source": [
        "---"
      ]
    },
    {
      "cell_type": "code",
      "execution_count": 32,
      "metadata": {
        "colab": {
          "base_uri": "https://localhost:8080/"
        },
        "id": "iH1jL0baGMJW",
        "outputId": "dd7307d6-eb5b-4ed0-c233-32574ddb0c40"
      },
      "outputs": [
        {
          "name": "stdout",
          "output_type": "stream",
          "text": [
            "Last updated: 2023-08-24T14:15:08.013185+02:00\n",
            "\n",
            "Python implementation: CPython\n",
            "Python version       : 3.9.17\n",
            "IPython version      : 8.14.0\n",
            "\n",
            "Compiler    : MSC v.1929 64 bit (AMD64)\n",
            "OS          : Windows\n",
            "Release     : 10\n",
            "Machine     : AMD64\n",
            "Processor   : Intel64 Family 6 Model 165 Stepping 2, GenuineIntel\n",
            "CPU cores   : 16\n",
            "Architecture: 64bit\n",
            "\n",
            "watermark      : 2.4.3\n",
            "numpy          : 1.23.5\n",
            "pandas         : 2.0.3\n",
            "seaborn        : 0.12.2\n",
            "matplotlib     : 3.7.2\n",
            "scipy          : 1.11.2\n",
            "statannotations: 0.4.4\n",
            "\n"
          ]
        }
      ],
      "source": [
        "from watermark import watermark\n",
        "watermark(iversions=True, globals_=globals())\n",
        "print(watermark())\n",
        "print(watermark(packages=\"watermark,numpy,pandas,seaborn,matplotlib,scipy,statannotations\"))"
      ]
    },
    {
      "cell_type": "code",
      "execution_count": null,
      "metadata": {},
      "outputs": [],
      "source": []
    }
  ],
  "metadata": {
    "colab": {
      "provenance": []
    },
    "kernelspec": {
      "display_name": "Python 3",
      "name": "python3"
    },
    "language_info": {
      "codemirror_mode": {
        "name": "ipython",
        "version": 3
      },
      "file_extension": ".py",
      "mimetype": "text/x-python",
      "name": "python",
      "nbconvert_exporter": "python",
      "pygments_lexer": "ipython3",
      "version": "3.9.17"
    }
  },
  "nbformat": 4,
  "nbformat_minor": 0
}
