{
 "cells": [
  {
   "cell_type": "markdown",
   "metadata": {},
   "source": [
    "# Quantitative image analysis\n",
    "After segmenting and labeling objects in an image, we can measure properties of these objects.\n",
    "\n",
    "See also\n",
    "* [SciPy lecture notes: Measuring region properties](https://scipy-lectures.org/packages/scikit-image/index.html#measuring-regions-properties)\n",
    "* [Plot regionprops](https://scikit-image.org/docs/stable/auto_examples/segmentation/plot_regionprops.html)\n",
    "\n",
    "Before we can do measurements, we need an `image` and a corresponding `label_image`. Therefore, we recapitulate filtering, thresholding and labeling:"
   ]
  },
  {
   "cell_type": "code",
   "execution_count": 1,
   "metadata": {},
   "outputs": [],
   "source": [
    "import pandas as pd\n",
    "from skimage.io import imread\n",
    "from skimage import filters\n",
    "\n",
    "from skimage import measure\n",
    "from pyclesperanto_prototype import imshow"
   ]
  },
  {
   "cell_type": "code",
   "execution_count": 2,
   "metadata": {},
   "outputs": [
    {
     "data": {
      "image/png": "[encoded data removed]",
      "text/plain": [
       "<Figure size 640x480 with 1 Axes>"
      ]
     },
     "metadata": {},
     "output_type": "display_data"
    }
   ],
   "source": [
    "# load image\n",
    "image = imread(\"../../data/blobs.tif\")\n",
    "\n",
    "# denoising\n",
    "blurred_image = filters.gaussian(image, sigma=1)\n",
    "\n",
    "# binarization\n",
    "threshold = filters.threshold_otsu(blurred_image)\n",
    "thresholded_image = blurred_image >= threshold\n",
    "\n",
    "# labeling\n",
    "label_image = measure.label(thresholded_image)\n",
    "\n",
    "# visualization\n",
    "imshow(label_image, labels=True)"
   ]
  },
  {
   "cell_type": "markdown",
   "metadata": {},
   "source": [
    "# Measurements / region properties\n",
    "To read out properties from regions, we use the [regionprops](https://scikit-image.org/docs/dev/api/skimage.measure.html#skimage.measure.regionprops) function:"
   ]
  },
  {
   "cell_type": "code",
   "execution_count": 3,
   "metadata": {},
   "outputs": [],
   "source": [
    "# analyse objects\n",
    "properties = measure.regionprops(label_image, intensity_image=image)"
   ]
  },
  {
   "cell_type": "markdown",
   "metadata": {},
   "source": [
    "The results are stored as `RegionProps` objects, which are not very informative:"
   ]
  },
  {
   "cell_type": "code",
   "execution_count": 4,
   "metadata": {},
   "outputs": [
    {
     "data": {
      "text/plain": [
       "[<skimage.measure._regionprops.RegionProperties at 0x1ecd7842df0>,\n",
       " <skimage.measure._regionprops.RegionProperties at 0x1ecd78420a0>,\n",
       " <skimage.measure._regionprops.RegionProperties at 0x1ecd7842a90>,\n",
       " <skimage.measure._regionprops.RegionProperties at 0x1ecd7842550>,\n",
       " <skimage.measure._regionprops.RegionProperties at 0x1ecd78428e0>]"
      ]
     },
     "execution_count": 4,
     "metadata": {},
     "output_type": "execute_result"
    }
   ],
   "source": [
    "properties[0:5]"
   ]
  },
  {
   "cell_type": "markdown",
   "metadata": {},
   "source": [
    "We can reorganize the measurements into a dictionary containing arrays. We introduced them earlier as [tables](https://nbviewer.jupyter.org/github/BiAPoL/Bio-image_Analysis_with_Python/blob/main/python_basics/06_Dictionaries_and_tables.ipynb):"
   ]
  },
  {
   "cell_type": "code",
   "execution_count": 5,
   "metadata": {
    "scrolled": true
   },
   "outputs": [
    {
     "data": {
      "text/plain": [
       "{'area': [429,\n",
       "  183,\n",
       "  658,\n",
       "  433,\n",
       "  472,\n",
       "  280,\n",
       "  75,\n",
       "  271,\n",
       "  227,\n",
       "  27,\n",
       "  494,\n",
       "  649,\n",
       "  96,\n",
       "  225,\n",
       "  448,\n",
       "  397,\n",
       "  513,\n",
       "  423,\n",
       "  268,\n",
       "  349,\n",
       "  158,\n",
       "  406,\n",
       "  422,\n",
       "  254,\n",
       "  503,\n",
       "  282,\n",
       "  675,\n",
       "  176,\n",
       "  358,\n",
       "  542,\n",
       "  599,\n",
       "  7,\n",
       "  635,\n",
       "  192,\n",
       "  594,\n",
       "  19,\n",
       "  264,\n",
       "  896,\n",
       "  473,\n",
       "  239,\n",
       "  166,\n",
       "  408,\n",
       "  413,\n",
       "  239,\n",
       "  374,\n",
       "  647,\n",
       "  378,\n",
       "  577,\n",
       "  66,\n",
       "  169,\n",
       "  467,\n",
       "  612,\n",
       "  539,\n",
       "  203,\n",
       "  556,\n",
       "  850,\n",
       "  278,\n",
       "  213,\n",
       "  79,\n",
       "  88,\n",
       "  52,\n",
       "  48],\n",
       " 'mean': [191.44055944055944,\n",
       "  179.84699453551912,\n",
       "  205.6048632218845,\n",
       "  217.5150115473441,\n",
       "  213.03389830508473,\n",
       "  205.65714285714284,\n",
       "  164.16,\n",
       "  176.0590405904059,\n",
       "  189.53303964757708,\n",
       "  149.33333333333334,\n",
       "  190.0080971659919,\n",
       "  172.42526964560864,\n",
       "  166.41666666666666,\n",
       "  196.8,\n",
       "  209.03571428571428,\n",
       "  180.0705289672544,\n",
       "  194.86939571150097,\n",
       "  196.27423167848698,\n",
       "  200.77611940298507,\n",
       "  190.64756446991404,\n",
       "  183.69620253164558,\n",
       "  187.21182266009853,\n",
       "  202.54028436018956,\n",
       "  180.5984251968504,\n",
       "  198.6958250497018,\n",
       "  189.33333333333334,\n",
       "  199.07555555555555,\n",
       "  195.3181818181818,\n",
       "  197.7877094972067,\n",
       "  198.760147601476,\n",
       "  190.85141903171953,\n",
       "  146.28571428571428,\n",
       "  193.22204724409448,\n",
       "  181.83333333333334,\n",
       "  210.45117845117846,\n",
       "  150.31578947368422,\n",
       "  189.93939393939394,\n",
       "  198.59821428571428,\n",
       "  205.5137420718816,\n",
       "  191.59832635983264,\n",
       "  184.09638554216866,\n",
       "  179.80392156862746,\n",
       "  199.94188861985472,\n",
       "  188.21757322175733,\n",
       "  195.76470588235293,\n",
       "  200.70479134466768,\n",
       "  208.23280423280423,\n",
       "  201.01213171577123,\n",
       "  188.36363636363637,\n",
       "  181.53846153846155,\n",
       "  167.58886509635974,\n",
       "  220.0261437908497,\n",
       "  189.5213358070501,\n",
       "  199.96059113300493,\n",
       "  216.93525179856115,\n",
       "  197.9294117647059,\n",
       "  190.44604316546761,\n",
       "  184.52582159624413,\n",
       "  184.81012658227849,\n",
       "  182.72727272727272,\n",
       "  189.53846153846155,\n",
       "  173.83333333333334],\n",
       " 'major_axis': [34.77923003414236,\n",
       "  20.950530036869296,\n",
       "  30.19848422590625,\n",
       "  24.508790749585156,\n",
       "  31.08476574192099,\n",
       "  20.456703267018653,\n",
       "  10.455950805204104,\n",
       "  22.270013595805494,\n",
       "  18.204772873013326,\n",
       "  12.678548278670085,\n",
       "  26.121885258285065,\n",
       "  33.385906778814366,\n",
       "  12.546653692400314,\n",
       "  18.35737770149141,\n",
       "  26.27274937409412,\n",
       "  35.8698551687111,\n",
       "  27.860019629951697,\n",
       "  28.010713581438814,\n",
       "  21.468307192278967,\n",
       "  22.917689441728474,\n",
       "  15.666167580602863,\n",
       "  23.865287484124742,\n",
       "  32.6668803721007,\n",
       "  19.57228408508096,\n",
       "  33.24776088170501,\n",
       "  20.24089328396192,\n",
       "  36.442424525819675,\n",
       "  20.498286890054775,\n",
       "  23.711197998545444,\n",
       "  29.20849759104235,\n",
       "  47.75343594118352,\n",
       "  3.0237157840738176,\n",
       "  40.67149576429511,\n",
       "  16.77158509151243,\n",
       "  28.811758210746788,\n",
       "  6.09093638927516,\n",
       "  20.588317981737514,\n",
       "  54.585718360111564,\n",
       "  32.95587965343868,\n",
       "  19.25126182233261,\n",
       "  16.687880082810175,\n",
       "  26.756617235381256,\n",
       "  25.62619404615955,\n",
       "  18.831258251302966,\n",
       "  24.783530938010692,\n",
       "  30.43602504101513,\n",
       "  23.49797787654461,\n",
       "  27.804675105924606,\n",
       "  16.651155953717762,\n",
       "  17.042194757272345,\n",
       "  35.316994908476254,\n",
       "  32.401948630679065,\n",
       "  30.136816201114012,\n",
       "  24.67233590691917,\n",
       "  27.47945909705002,\n",
       "  41.32954022794983,\n",
       "  21.637743417307323,\n",
       "  18.753879494637765,\n",
       "  18.287488895428375,\n",
       "  21.673692014391232,\n",
       "  14.33510391276191,\n",
       "  16.925659950161798]}"
      ]
     },
     "execution_count": 5,
     "metadata": {},
     "output_type": "execute_result"
    }
   ],
   "source": [
    "statistics = {\n",
    "    'area':       [p.area               for p in properties],\n",
    "    'mean':       [p.mean_intensity     for p in properties],\n",
    "    'major_axis': [p.major_axis_length  for p in properties]\n",
    "}\n",
    "\n",
    "statistics"
   ]
  },
  {
   "cell_type": "markdown",
   "metadata": {},
   "source": [
    "You can also add custom columns by computing your own metric, for example the `aspect_ratio`:"
   ]
  },
  {
   "cell_type": "code",
   "execution_count": 6,
   "metadata": {},
   "outputs": [],
   "source": [
    "statistics['aspect_ratio'] = [p.major_axis_length / p.minor_axis_length for p in properties]"
   ]
  },
  {
   "cell_type": "markdown",
   "metadata": {},
   "source": [
    "Reading those dictionaries of arrays is not very convenient. Thus, we use the [pandas library]() which is a common asset for data scientists."
   ]
  },
  {
   "cell_type": "code",
   "execution_count": 7,
   "metadata": {},
   "outputs": [
    {
     "data": {
      "text/html": [
       "<div>\n",
       "<style scoped>\n",
       "    .dataframe tbody tr th:only-of-type {\n",
       "        vertical-align: middle;\n",
       "    }\n",
       "\n",
       "    .dataframe tbody tr th {\n",
       "        vertical-align: top;\n",
       "    }\n",
       "\n",
       "    .dataframe thead th {\n",
       "        text-align: right;\n",
       "    }\n",
       "</style>\n",
       "<table border=\"1\" class=\"dataframe\">\n",
       "  <thead>\n",
       "    <tr style=\"text-align: right;\">\n",
       "      <th></th>\n",
       "      <th>area</th>\n",
       "      <th>mean</th>\n",
       "      <th>major_axis</th>\n",
       "      <th>aspect_ratio</th>\n",
       "    </tr>\n",
       "  </thead>\n",
       "  <tbody>\n",
       "    <tr>\n",
       "      <th>0</th>\n",
       "      <td>429</td>\n",
       "      <td>191.440559</td>\n",
       "      <td>34.779230</td>\n",
       "      <td>2.088249</td>\n",
       "    </tr>\n",
       "    <tr>\n",
       "      <th>1</th>\n",
       "      <td>183</td>\n",
       "      <td>179.846995</td>\n",
       "      <td>20.950530</td>\n",
       "      <td>1.782168</td>\n",
       "    </tr>\n",
       "    <tr>\n",
       "      <th>2</th>\n",
       "      <td>658</td>\n",
       "      <td>205.604863</td>\n",
       "      <td>30.198484</td>\n",
       "      <td>1.067734</td>\n",
       "    </tr>\n",
       "    <tr>\n",
       "      <th>3</th>\n",
       "      <td>433</td>\n",
       "      <td>217.515012</td>\n",
       "      <td>24.508791</td>\n",
       "      <td>1.061942</td>\n",
       "    </tr>\n",
       "    <tr>\n",
       "      <th>4</th>\n",
       "      <td>472</td>\n",
       "      <td>213.033898</td>\n",
       "      <td>31.084766</td>\n",
       "      <td>1.579415</td>\n",
       "    </tr>\n",
       "    <tr>\n",
       "      <th>...</th>\n",
       "      <td>...</td>\n",
       "      <td>...</td>\n",
       "      <td>...</td>\n",
       "      <td>...</td>\n",
       "    </tr>\n",
       "    <tr>\n",
       "      <th>57</th>\n",
       "      <td>213</td>\n",
       "      <td>184.525822</td>\n",
       "      <td>18.753879</td>\n",
       "      <td>1.296143</td>\n",
       "    </tr>\n",
       "    <tr>\n",
       "      <th>58</th>\n",
       "      <td>79</td>\n",
       "      <td>184.810127</td>\n",
       "      <td>18.287489</td>\n",
       "      <td>3.173540</td>\n",
       "    </tr>\n",
       "    <tr>\n",
       "      <th>59</th>\n",
       "      <td>88</td>\n",
       "      <td>182.727273</td>\n",
       "      <td>21.673692</td>\n",
       "      <td>4.021193</td>\n",
       "    </tr>\n",
       "    <tr>\n",
       "      <th>60</th>\n",
       "      <td>52</td>\n",
       "      <td>189.538462</td>\n",
       "      <td>14.335104</td>\n",
       "      <td>2.839825</td>\n",
       "    </tr>\n",
       "    <tr>\n",
       "      <th>61</th>\n",
       "      <td>48</td>\n",
       "      <td>173.833333</td>\n",
       "      <td>16.925660</td>\n",
       "      <td>4.417297</td>\n",
       "    </tr>\n",
       "  </tbody>\n",
       "</table>\n",
       "<p>62 rows × 4 columns</p>\n",
       "</div>"
      ],
      "text/plain": [
       "    area        mean  major_axis  aspect_ratio\n",
       "0    429  191.440559   34.779230      2.088249\n",
       "1    183  179.846995   20.950530      1.782168\n",
       "2    658  205.604863   30.198484      1.067734\n",
       "3    433  217.515012   24.508791      1.061942\n",
       "4    472  213.033898   31.084766      1.579415\n",
       "..   ...         ...         ...           ...\n",
       "57   213  184.525822   18.753879      1.296143\n",
       "58    79  184.810127   18.287489      3.173540\n",
       "59    88  182.727273   21.673692      4.021193\n",
       "60    52  189.538462   14.335104      2.839825\n",
       "61    48  173.833333   16.925660      4.417297\n",
       "\n",
       "[62 rows x 4 columns]"
      ]
     },
     "execution_count": 7,
     "metadata": {},
     "output_type": "execute_result"
    }
   ],
   "source": [
    "dataframe = pd.DataFrame(statistics)\n",
    "dataframe"
   ]
  },
  {
   "cell_type": "markdown",
   "metadata": {},
   "source": [
    "Those dataframes can be saved to disk conveniently:"
   ]
  },
  {
   "cell_type": "code",
   "execution_count": 8,
   "metadata": {},
   "outputs": [],
   "source": [
    "dataframe.to_csv(\"blobs_analysis.csv\")"
   ]
  },
  {
   "cell_type": "markdown",
   "metadata": {},
   "source": [
    "Furthermore, one can measure properties from our `statistics` table using [numpy](https://numpy.org/doc/stable/). For example the mean area:"
   ]
  },
  {
   "cell_type": "code",
   "execution_count": 9,
   "metadata": {},
   "outputs": [
    {
     "data": {
      "text/plain": [
       "355.3709677419355"
      ]
     },
     "execution_count": 9,
     "metadata": {},
     "output_type": "execute_result"
    }
   ],
   "source": [
    "import numpy as np\n",
    "\n",
    "# measure mean area\n",
    "np.mean(statistics['area'])"
   ]
  },
  {
   "cell_type": "markdown",
   "metadata": {},
   "source": [
    "# Exercises\n",
    "Analyse the loaded blobs `image`. "
   ]
  },
  {
   "cell_type": "markdown",
   "metadata": {},
   "source": [
    "* How many objects are in it?"
   ]
  },
  {
   "cell_type": "code",
   "execution_count": null,
   "metadata": {},
   "outputs": [],
   "source": []
  },
  {
   "cell_type": "markdown",
   "metadata": {},
   "source": [
    "* How large is the largest object?"
   ]
  },
  {
   "cell_type": "code",
   "execution_count": null,
   "metadata": {},
   "outputs": [],
   "source": []
  },
  {
   "cell_type": "markdown",
   "metadata": {},
   "source": [
    "* What are mean and standard deviation of the intensity in the image?"
   ]
  },
  {
   "cell_type": "code",
   "execution_count": null,
   "metadata": {},
   "outputs": [],
   "source": []
  },
  {
   "cell_type": "markdown",
   "metadata": {},
   "source": [
    "* What are mean and standard deviation of the area of the segmented objects?"
   ]
  },
  {
   "cell_type": "code",
   "execution_count": null,
   "metadata": {},
   "outputs": [],
   "source": []
  }
 ],
 "metadata": {
  "kernelspec": {
   "display_name": "Python 3 (ipykernel)",
   "language": "python",
   "name": "python3"
  },
  "language_info": {
   "codemirror_mode": {
    "name": "ipython",
    "version": 3
   },
   "file_extension": ".py",
   "mimetype": "text/x-python",
   "name": "python",
   "nbconvert_exporter": "python",
   "pygments_lexer": "ipython3",
   "version": "3.9.15"
  },
  "toc": {
   "base_numbering": 1,
   "nav_menu": {},
   "number_sections": false,
   "sideBar": false,
   "skip_h1_title": false,
   "title_cell": "Table of Contents",
   "title_sidebar": "Contents",
   "toc_cell": false,
   "toc_position": {},
   "toc_section_display": false,
   "toc_window_display": false
  }
 },
 "nbformat": 4,
 "nbformat_minor": 4
}
