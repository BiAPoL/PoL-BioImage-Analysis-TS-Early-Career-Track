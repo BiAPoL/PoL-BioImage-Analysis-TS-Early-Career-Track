{
 "cells": [
  {
   "cell_type": "code",
   "execution_count": 16,
   "metadata": {},
   "outputs": [],
   "source": [
    "from vedo import *\n",
    "settings.default_backend = \"vtk\""
   ]
  },
  {
   "cell_type": "code",
   "execution_count": 17,
   "metadata": {},
   "outputs": [],
   "source": [
    "mesh_a = Mesh('../data/mouse_limb_a.stl').c(\"red5\")\n",
    "mesh_b = Mesh('../data/mouse_limb_b.stl').c(\"green5\")\n",
    "\n",
    "# Here user clicks on mesh A and then B to pick 5+5 landmarks\n",
    "show(\"Click meshes & press i\", mesh_a, mesh_b).close()"
   ]
  },
  {
   "cell_type": "code",
   "execution_count": 18,
   "metadata": {},
   "outputs": [],
   "source": [
    "# This shows that automatic alignment may be not good enough:\n",
    "# make a copy and align it to mesh B with ICP\n",
    "# mesh_fail = mesh_a.clone().align_to(mesh_b, rigid=True)\n",
    "# show(\"ICP alignment is not good enough!\", mesh_fail, mesh_b).clear()"
   ]
  },
  {
   "cell_type": "code",
   "execution_count": 19,
   "metadata": {},
   "outputs": [],
   "source": [
    "# Warp A to match B using the manually picked landmarks:\n",
    "pts_a = [\n",
    "    (490.395, 145.306, 891.946),\n",
    "    (290.923, 913.594, 279.837),\n",
    "    (651.440, 836.449, 775.404),\n",
    "    (771.368, 310.359, 465.300),\n",
    "    (266.866, 390.811, 941.395),\n",
    "]\n",
    "\n",
    "pts_b = [\n",
    "    (1735.77, 538.276, 524.379),\n",
    "    (1680.17, 1468.45, 644.959),\n",
    "    (1693.76, 1164.16, 140.946),\n",
    "    (1297.26, 904.027, 415.989),\n",
    "    (2036.56, 763.552, 477.475)\n",
    "]\n",
    "assert len(pts_a) > 3 and len(pts_a) == len(pts_b)"
   ]
  },
  {
   "cell_type": "code",
   "execution_count": 20,
   "metadata": {},
   "outputs": [],
   "source": [
    "# Make a copy and warp it\n",
    "aligned_mesh = mesh_a.clone().warp(pts_a, pts_b)\n",
    "\n",
    "# Create arrows to show the displacement\n",
    "arrows = Lines(pts_a, pts_b)\n",
    "\n",
    "# Compute the distance between the two meshes\n",
    "mesh_b.distance_to(mesh_a)\n",
    "mesh_b.cmap(\"coolwarm\").add_scalarbar()\n",
    "mesh_a.alpha(0.2)  # make mesh A very transparent\n",
    "\n",
    "# Show all the objects in one go\n",
    "show(\"Warping Result\", mesh_a, aligned_mesh, mesh_b, arrows).close()"
   ]
  },
  {
   "cell_type": "code",
   "execution_count": null,
   "metadata": {},
   "outputs": [],
   "source": []
  }
 ],
 "metadata": {
  "kernelspec": {
   "display_name": "Python 3 (ipykernel)",
   "language": "python",
   "name": "python3"
  },
  "language_info": {
   "codemirror_mode": {
    "name": "ipython",
    "version": 3
   },
   "file_extension": ".py",
   "mimetype": "text/x-python",
   "name": "python",
   "nbconvert_exporter": "python",
   "pygments_lexer": "ipython3",
   "version": "3.10.10"
  }
 },
 "nbformat": 4,
 "nbformat_minor": 2
}
