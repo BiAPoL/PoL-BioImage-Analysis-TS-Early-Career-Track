{
 "cells": [
  {
   "cell_type": "code",
   "execution_count": 1,
   "metadata": {},
   "outputs": [],
   "source": [
    "from vedo import dataurl, Mesh, Arrows, show, settings\n",
    "settings.default_backend = \"vtk\""
   ]
  },
  {
   "cell_type": "code",
   "execution_count": 2,
   "metadata": {},
   "outputs": [
    {
     "data": {
      "text/html": [
       "<table>\n",
       "<tr>\n",
       "<td>\n",
       "<img src='data:image/png;base64,iVBORw0KGgoAAAANSUhEUgAAAMgAAADICAIAAAAiOjnJAAAX4klEQVR4nO2ca2xb5fnA32Mf2+fia+LESZe2bkPaqGoWmq0UCKGXdUOUMjSNibFCNVWa+LCLhiYYG1M7iV0+bNK0SRNfBmMX0PgwFTEBHVsRLU3bhdI2TWnWtE1OmsSxEyf2iY+PfW4+/w/PP+///AtjF/LWYX1+H6rU9jk+9vvz8zzv874257ouQZClxlfvC0D+O0GxECagWAgTUCyECSgWwgQUC2ECioUwAcVCmIBiIUxAsRAmoFgIE1AshAkoFsIEFAthAoqFMAHFQpiAYiFMQLEQJqBYCBNQLIQJKBbCBBQLYQKKhTABxUKYgGIhTECxECagWAgTUCyECSgWwgQUC2ECioUwAcVCmIBiIUxAsRAmoFgIE1AshAkoFsIEFAthAoqFMAHFQpiAYiFMQLEQJqBYCBNQLIQJKBbCBBQLYQKKhTABxUKYgGIhTECxECagWAgTUCyECSgWwgQUC2ECioUwAcVCmIBiIUxAsRAmoFgIE1AshAkoFsIEFAthAoqFMAHFQpiAYiFMQLEQJqBYCBNQLIQJKBbCBBQLYQKKhTABxUKYgGIhTECxECagWAgTUCyECSgWwgS+3hdQZxRFIYRcvXp1eno6m83OzMzUarWWlhZN03p7e7dt2/bBB/7tb3/LZrPZbNbv9zc1NVWr1S1btqTT6XQ6fX2uf9nCua5b72u43iiK8tZbbw0PDy8sLIyMjPA8z/O83++He2u1muM4juMYhlGtVteuXbtu3br9+/d7jx0YGDh79izP88FgkOd53yJwuGmagUBAFMU777wzn88fOHCgbi+1fnxUxVIU5dy5c0ePHvX5fLqut7a2+v3+J554gt4LEYUQ4o0fiqIcPHjwj3/8YzgcliQpFAoFAgGfz8dxHCGkVqu5rgtviOu6juNYllWpVMrlsiAIO3bsWL169W9+8xtd18PhsCAI9FgKuOW6bq1WsyzLMAxd10VR7Ovr6+npgfgHF0YvjwZFRVH6+/svXbqk6zpcT3Nz87e+9S327yUTPmJiwXgcOnTo5MmTiUQiGAwSQkzTrFQq09PTMzMz27dvz2az4XA4FApBELJtu1Kp+Hy+QqFQq9X8fj+EGZ7nwQZCCPWJKgI3WpZVXcSyLEJIIBAQBEEQBColPbxWq3klg1vATtM0XdeF2CaKYjgchqeAuKhpms/nu3Tp0sqVK2VZliQpEAhwHGcYRrFY3LRp03333UcI+Wil14+GWJOTky+88MJbb701PT3d2Ni4bt26eDwuiiLHceDNG2+8cfPNN8OoSJIEAw/2kMXx03XdsizHcSAy0T9c16Xxxufz+f1+n88HWlSrVUiItm1T83iep27R9AcO1Wo1Qoj3hH6/n+M4OGcgEIAwSY23bRvOr+t6uVyempqanp6+9dZbw+FwIBCo1WqVSkVV1QsXLmia1tHRsX379k996lMfCcOWu1iKorzyyiuHDx/2+XyVSiUcDqdSqUQiIcsyz/OO4ywsLLz++uu33HJLY2NjJBKRJEkUxVAo5E1ztVrNtm0YP9M0DcPwGgYDD3jjjeM4EKt0XXcch6ZLnufps9A0CoI6i8C7CucMBAJwPYIgiKIIccubLg3DqFQquq6XSqV8Pn/ixInPfOYziUSC53nLssrlcrFYzOVymqZBMLvtttu+/vWv13lg/hnLWqyDBw++/PLLpVIJUoMgCNFoNBqNwuee47hyufzSSy9t2bKlpaUlGo1C5SSKoiAIwWAQjoIhBJ90Xa9UKhCBQAiIUrQ8IoSAhY7j2LZtmmYulxsfH5+fn4fUGQgEdF1Pp9OdnZ2QUqmU9HB4Rhq9IMKJogiXHQwG4Rkh1ZqmWa1WQSxN0xYWFrLZ7ODg4F133RUOh13XhVwJd1UqFb/fX61Wg8HgZz/72S9+8Yv1Gpp/yjIVS1GUX/7yl6OjoxzH0fGABATeBAIBx3Heeecdy7IgM0aj0UgkIsuyLMuiKAaDQYhAkKQg44BVEFHABprLIIBBSWTbdiaTOXfunGVZkiSBr5BVIfNqmqaqqiRJW7duhdAYCAToCWlAcl3Xtm1CCHULjKdBy3EcKBDL5XK5XC6VSgsLC8Vi8eLFi8lk8qabboKgValUKpUKvAQIt7quu66bTqd/+tOf1nmo/gHLsY+lKMpTTz1lGEYwGIQIFAwGoWaiAYYQomnayMhIT0+PN2zAI2H8qFhQOzuOA7Uz7Q7Ah8q2bchKoJTP5xsZGTl37lwikUin01DMBYNBmvIgxhSLxWw2e+jQoY9//ONdXV20pIP8CxbCswNQbwUCgWAwCEGLXhI8O0QjIJFIDAwMtLa2RqNRSM0gLmRVwzAgcGaz2X379u3du/cD+m31YlmIpSjK22+//YUvfAH+PnDgALzjsiwnEgmILpD7aAVt2/bs7Gw4HIYh9xbLED8gMMAhtCqHU9HcB/WQbdtgFVTrR48evXLlyqpVq1KpVENDg7ezQAgBCarVaiQSCYfDMzMzQ0NDoih+4hOfEATB7/eDW+A62OPNjDzPQ/SFC4M5AY129FUEg8GWlpZsNivLMlmcq9KZrN/vD4fDPM9XKhXbtp999lloqSiKcuLEiQcffLCug/m/1FksRVHefPPNgYEBmFp/+tOffvLJJx3HCYVC4XA4kUhIkqSqKnxkYRrFcRwkrLm5uZaWFu/ZaCiiVTN10efzCYLgDXi0fLZtOxgMwgRtenp6fHw8nU63trY2NTXF43FZlr2dBVpxy7IMwnEcd/z48TVr1qxZswZmfPwi4Ap9LuhHeC+Mik6vCuA4LhqNFgoFCE7wAQBfTdPkOC4ejwcCgWKxqGmaaZpPPPHEH/7wh0OHDl24cOHo0aM9PT1f+cpXrutAvoc6i3XkyJGnn356YmKis7NTEITDhw87juP3+0VRTCQSjY2Nruvm83k6v3MchxASDAZ1XadBCIIBQKMXTStwiLeVQCt6mOKBpjBPPHz4cGNjYyqVSiaTyWQyFovRBgFtWYFYEJ8gnUG/45FHHnnfesvb04JXRy/MOw+lLwGKs2AwCNNSn88HMZW+CZZlhUIh6LaA6I7j3H///Zs3bz5z5szIyMjY2Fi1Wq3vzLHOYp0/f37FihXd3d2nT5/WdV3X9VgsZpqmLMuxWCwej0Pe8fv9kUgE6hu/3y9JEsdxoVAIynBaKVOIxzBaS3mrdciPNEsSQqBgX1hYaG9vh6emM1CaVeFAmC0GAgH42zCMxsbGS5cuZTKZjo4Or1jXTDa93bJrOrF0CgkvBK4f2r8wMYSPB8dxUL/DVcFMolgsiqKoqurJkycrlcrnP//5bDY7OjqqKEodO171FEtRlFwut2LFisnJyb6+vmKxCPZwHCeKInQ7oe4uFovRaJQQQksiQkggEDAMg8Ye+odXMvpc3m4TtY0+AGqdwcFBmFqGF4EJJogCHkDgAc9gslkul6PRaDweP3fuXHt7Ow2W1J5rjKfQG+nF05cAQRQa9BAg4fpN01RV1e/3QyI2DEMURUJIrVaLxWKu6/b19V28eHHt2rXZbLa+fdR6bpt57bXXOI6bmppavXo1JBdRFOGTTeskURRTqdTc3JyqqvCphbQFRQx8lOlg0IwDjSivZzTfmYvYi8Dt1Wr1/PnzsVgMnAalaK8VgCknbXXSR0qSFIlEJicnTdOks0uAPh3cSKWn10wv1Rt3oQ0BE1v6QXJdd2FhIZPJNDc3h8NhmtnhLkEQZFk2DONjH/vYxMSE3+9/9NFH6zi49YxY7uK6SigUMk1TkiRYUYZRhwaP3++HWDU6OtrR0UEIAUVCoVA0Gs1kMuVyORaL0fkd7W1aluVtWtJBpdUMLX0gnV25ckXXdUEQpEWgy+Ddv0AWcyiELlEUIStB8/Pq1auw6mfbNhxCpw40u3mLdLhIesFe0XVdt207Eon4fD7TNKHvX61WL1686DhOMpmEG+GNglcKMwkoFWBO3djYeN2H9P+op1i7du06c+bM/Pw8TLkFQYA8Al1mSZIsy+I4TlVVQRCOHTuWTCZFUYQ31HVdURRjsVg2m21qarIWoRHINE1oEdH1GRhCuqJH45njOAMDA7Ozs9Fo1BuuoBKH9oG3lUrXdqCC9i5Qvvrqqx0dHRs2bKAFFshNAzBd+aa12jWXDeTz+dbWVlmWoTaH6ywUCpcuXdqxY0epVIKPBKz2lEqlZDIJnwFadPp8voceeqiOg1tPsV599VVRFDVNs20bBgC2Mdm2ncvlQB1CiGVZiUTi7rvvvnz5cnt7O8yVoCfe3Nw8NDTU0tICS8KwtEdLItoiopGJNtaz2Ww8Hof/Qjy45557nn76aWjuw3KQt+9KF20gHbuuS9uhkBlh5njvvfe+/vrrqVSKfw9Q7JPF6AWi02Z61cPCwkKhUNi0aROEK2hWVSoVRVG2bdvGcVw+n1dV1XVdXddzuRwEe2jJgoIwBRkaGrpBi3fXdRVFWbFixcTEhCRJUEFbliWK4vj4eKlUkmWZzqpc141Go1evXm1oaLBtGzrdkiR98pOfPH36tCzL0BT1Npxs2wY/rpnwu67b2NgI0QIWeUzThJYYdGIFQfBa5e0zQdVPmwXQ8ITH8zzf0tJSrVZLpRJtB3jXm+HZaQSF5UtYJaRomjY8PLxp0yZBECzLgkUe13VnZmYEQcjlct78rqqqpmmNjY2O45RKJUKIqqqqqqbTaSgS6jOuhJD6ivXVr35V07S5ubnJyUnDMMbGxkRRnJubI4Rs3Lhx+/btUMpA7nAcJ51Or169+uc///nY2BghhOO4cDjc0NAQi8UmJiaumb2bpklzGR0MOisE2+DfWq2WTCZnZmZM04S1F+49ULHeexdNbdVqtVAodHZ2BgIBmLWBl9AlgQvgFrdhQe6D1aFyuQxCFAqF4eFh13WTyWStVoPNDqqqbtiw4fnnn1cU5ciRI/QkcFXPPvusZVnz8/PVapUQEo/HJUlKpVKBQKC+S9R17mM1NzfPz8+nUilYxzAMo6OjQ5Kkubm5hx9++H0P+dnPfvb888//9re/NQwDOuNdXV1DQ0PZbBZCAkzxvEUSTWRQw0F0gVke1N3hcPjYsWOqqnq3VZHFtEUWt1i97/XQQk3TtPPnz0NtBIETWlB0SkEWpadFOl2BVlW1VCr9/e9/d123t7dX0zTYReO67h133PHtb3+b/P+tsACs4aRSKVoDGIZBCPH7/evWrVuSAfqPqbNYPM+Pjo6uWLEiEok0NTUJggAlreM4V69eXbVq1fsetWfPnj179vzkJz85e/ZsLpcTBKG1tVXTtGPHjnV1dTU3N0ciEboJgnYs6fwcJgqO40iSBK1XURR7e3tfe+01TdPoTI32L2iDgHg2i9LECiprmibL8vr162GBGe7VdZ3uPr1mAwXtcVSrVU3TisXimTNnkslka2vr1NRUtVqVJKm7u5tutn5fYOoXjUYbGxuDwWC1Wp2bmwNB77nnHiYD9i9TZ7Eefvjh0dHRl1566a677qpWqxBdEomEZVlvvvnm3r17P+DYxx57jBCiKMqLL74oiuLIyMg3vvGNdDr9xhtvHDlyRJIkWZah8wQzJqoXfAkCGj/gHxTXsizPzc1ByUV7UXS9z9t5pw0CGnXy+Xy5XIZ5Gd1iVS6XK5UKVFd0DwVta0F1xfN8KpW699579+/f/+KLL87Nzd18882tra3/yoaFsbGxhoaGeDwOe2lgrfPUqVO33nrrnXfeuTQj9J9S/90NBw4cMAyjv79/586d4XAYtrVATvxXDk+n05ApKPv27duxY8fvf/97x3HefffdaDQKHQG6l4ZugiiVStC4gqRZq9WmpqZUVYWKPhQKTU9P33TTTcSTCq/ptYJApVIpk8mYplksFr07CmkehEAFj4dDeJ6PRCLNzc0PPPAATXCPP/74v/XWZbNZKN5hcu33+3O53O7du7///e//W+dhQf3FIoT86Ec/IoT09/e//PLLkUiEEHLlypUnn3zyPz5hOp3+3ve+B3//8Ic/HBoa4nke9kp493XB3lTaTyeEZDKZ+fl5cMIwjFQqBT0z7z4FZ/H7EfAYXdfz+Xwmk2lra8tkMtA+gNYlTaa036uqqmEYu3fv3rNnz4d/3x544IEHH3wQwiosHR48ePDDn3ZJWBZiAb29vZZl/eAHP4CewlKdFgQ9fvz4U0891draCvuraGccohekwpaWlvHx8Uwms3LlSvowmDbSeSXxtKBgoVBVVTq3n5mZoVu76CoNLClC52n9+vXf+c53luqlKYqiadqvf/3rlStX7tq167vf/e5SnfnDs4zEIoRs27ZtcHBQUZTLly8v7Zlvv/32hx566LnnnmtqaqJfsfJ54HketgnA2lFDQwOU9iAWbacRz14/KJLy+fz4+LgkSQ0NDeVyGRKfd4EStjLPzMxs3LhxCa0ihKTT6YWFhb1791qWtbRn/vAsL7EIIffdd9+f/vSnvr6+JT8z7JIrlUp0axfd4QQLfJ2dnbCaNDU1FYvFvJvA3rs9UNd1VVXz+fzExISqqpFIBLqj3lgFdTqItbCwcNttty35i/rxj3/89ttvf+5zn1vyM39IlumXKVjwyiuvFIvFF154AbqX3i4X7YIODg76fL5wOLxp06Z0Og3hDdahyeK6NZThmqbNzs6OjY0NDg5C3Orr66M7Ybwt0EqlYppmb29vPB6v+8bO68ayi1jsmJiY6Orq6u7uhp9doOuJ3m67z+draGgwTTObzYZCIdd1YSMNbCYmi+0GCFfZbHZ6etp13ZaWlrVr18KSlHftCAiFQmvXrr399tuHh4fr/R5cP24gsQgh0Wi0p6dn586dv/jFL+gmT+L57vK6desKhUJTU5OmaRMTE1AhQdCCM8D6TLlczufzuVzOMIzm5uZCoSDLMt1ZQPWCfVRf/vKX4Xsf/6h3/1/JDZQKT58+PTg42NnZOTs7y/P87373O2g00PU+QgjHcZlMZvXq1X6/Hxb4YMEHtvQQQmBNEBaMHceBSf7k5GRrayvxbAqFwDYzM/O1r32tWCyuWrVqcnJy/fr13d3d9X0Trhs30A+vtbS0qKoqiuJf//rXK1eu3H///XTPDC2zXNdNpVITExMwK4QdiIVCIZfLwe9g5XI5+PIMz/OwJjg4OJhKpcjiqjCdDRQKhUcfffQvf/nLqVOnZFk+ffo0POwG4QZKhbAzp1wuf/Ob33zmmWe6u7t7enra2toaGhr+/Oc/Dw8Pw3eqfD5fLBY7e/ZsIBBYv369qqqQB6GVRVcPOY6bnZ2F3+oAQeEbbMlkctu2bW1tbSMjI7Ztb9iwYfv27RcvXrzllltgBnCDcAO91Hg8Ho/HL1++rGlaKBRKpVK2bcfj8UQicccddwQCgbvvvntgYABWDIvFouM409PTg4ODa9asgT0w0EqAe7u6umCneXt7u67r3d3dqVRqeHi4qampvb19cnKyWq2uWrXq+PHjY2Nj4XAYthTX+z24ftxAYhFCdu7cSQhJpVLPPPPMl770JdhNL8tyW1vbxMTE1q1bt27d+t6jHn/8cUVR2traCCGapu3evfuRRx553/PDl46glQ+/h3PhwoXHHnvs1KlTGzduZPnKlh03UPFOKZVK77zzTm9v78mTJwkhW7Zseffdd+GXGv7RIfv374ev5Dc3N3/wF0H7+/s3b97c398vCMLmzZuPHTum6/quXbuW/FUsc25EsbwcP348kUhAe/ODH/mrX/3K5/Pt27fvgx924sQJ+P70R+Ln0dhxo4uFMOIGajcg1xMUC2ECioUwAcVCmIBiIUxAsRAmoFgIE1AshAkoFsIEFAthAoqFMAHFQpiAYiFMQLEQJqBYCBNQLIQJKBbCBBQLYQKKhTABxUKYgGIhTECxECagWAgTUCyECSgWwgQUC2ECioUwAcVCmIBiIUxAsRAmoFgIE1AshAkoFsIEFAthAoqFMAHFQpiAYiFMQLEQJqBYCBNQLIQJKBbCBBQLYQKKhTABxUKYgGIhTECxECagWAgTUCyECSgWwgQUC2ECioUwAcVCmIBiIUxAsRAmoFgIE1AshAkoFsIEFAthAoqFMAHFQpiAYiFMQLEQJqBYCBNQLIQJKBbCBBQLYQKKhTABxUKYgGIhTECxECagWAgTUCyECSgWwgQUC2ECioUwAcVCmIBiIUxAsRAmoFgIE1AshAkoFsIEFAthAoqFMOF/APRlnNpmeErBAAAAAElFTkSuQmCC'></img>\n",
       "</td>\n",
       "<td style='text-align: center; vertical-align: center;'><br/>\n",
       "<b><a href=\"https://vedo.embl.es/docs/vedo/mesh.html\" target=\"_blank\">vedo.mesh.Mesh</a></b><br/><code><i>(....embl.es/examples/data/man.vtk)</i></code>\n",
       "<table>\n",
       "<tr><td><b> bounds </b> <br/> (x/y/z) </td><td>-0.9169 ... 0.9169<br/>-0.3300 ... 0.2617<br/>-1.570 ... 1.685</td></tr>\n",
       "<tr><td><b> center of mass </b></td><td>(1.01e-10, 4.06e-11, 2.20e-11)</td></tr>\n",
       "<tr><td><b> average size </b></td><td>0.911</td></tr>\n",
       "<tr><td><b> nr. points&nbsp/&nbspfaces </b></td><td>24461&nbsp/&nbsp24459</td></tr>\n",
       "\n",
       "<tr><td><b> cell data array </b></td><td>MaterialIds</td></tr>\n",
       "</table>\n",
       "</table>"
      ],
      "text/plain": [
       "<Mesh(0x5636ef8004c0) at 0x7fc173550880>"
      ]
     },
     "execution_count": 2,
     "metadata": {},
     "output_type": "execute_result"
    }
   ],
   "source": [
    "# Load a mesh\n",
    "mesh = Mesh(dataurl+\"man.vtk\").color(\"white\")\n",
    "mesh"
   ]
  },
  {
   "cell_type": "code",
   "execution_count": 3,
   "metadata": {},
   "outputs": [
    {
     "data": {
      "text/html": [
       "<table>\n",
       "<tr>\n",
       "<td>\n",
       "<img src='data:image/png;base64,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'></img>\n",
       "</td>\n",
       "<td style='text-align: center; vertical-align: center;'><br/>\n",
       "<b><a href=\"https://vedo.embl.es/docs/vedo/mesh.html\" target=\"_blank\">vedo.mesh.Mesh</a></b><br/><code><i>(....embl.es/examples/data/man.vtk)</i></code>\n",
       "<table>\n",
       "<tr><td><b> bounds </b> <br/> (x/y/z) </td><td>-0.9070 ... 0.9041<br/>-0.3287 ... 0.2765<br/>-1.566 ... 1.691</td></tr>\n",
       "<tr><td><b> center of mass </b></td><td>(-3.62e-3, 0.0158, 0.0810)</td></tr>\n",
       "<tr><td><b> average size </b></td><td>0.945</td></tr>\n",
       "<tr><td><b> nr. points&nbsp/&nbspfaces </b></td><td>205&nbsp/&nbsp399</td></tr>\n",
       "\n",
       "\n",
       "</table>\n",
       "</table>"
      ],
      "text/plain": [
       "<Mesh(0x5636ef998500) at 0x7fc1735b7520>"
      ]
     },
     "execution_count": 3,
     "metadata": {},
     "output_type": "execute_result"
    }
   ],
   "source": [
    "# Create a heavily decimated copy with about 200 points\n",
    "# (to speed up the computation)\n",
    "mesh_dec = mesh.clone().triangulate().decimate(n=200)\n",
    "mesh_dec"
   ]
  },
  {
   "cell_type": "code",
   "execution_count": 4,
   "metadata": {},
   "outputs": [],
   "source": [
    "sources = [[0.9, 0.0, 0.2]]  # this point moves\n",
    "targets = [[1.2, 0.0, 0.4]]  # ...to this.\n",
    "for pt in mesh_dec.points():\n",
    "    if pt[0] < 0.3:          # while these pts don't move\n",
    "        sources.append(pt)   # (e.i. source = target)\n",
    "        targets.append(pt)"
   ]
  },
  {
   "cell_type": "code",
   "execution_count": 5,
   "metadata": {},
   "outputs": [
    {
     "data": {
      "text/html": [
       "<table>\n",
       "<tr>\n",
       "<td>\n",
       "<img src='data:image/png;base64,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'></img>\n",
       "</td>\n",
       "<td style='text-align: center; vertical-align: center;'><br/>\n",
       "<b><a href=\"https://vedo.embl.es/docs/vedo/mesh.html\" target=\"_blank\">vedo.mesh.Mesh</a></b><br/><code><i>(....embl.es/examples/data/man.vtk)</i></code>\n",
       "<table>\n",
       "<tr><td><b> bounds </b> <br/> (x/y/z) </td><td>-0.9177 ... 1.173<br/>-0.3300 ... 0.2617<br/>-1.570 ... 1.684</td></tr>\n",
       "<tr><td><b> center of mass </b></td><td>(0.0237, 4.06e-11, 0.0158)</td></tr>\n",
       "<tr><td><b> average size </b></td><td>0.935</td></tr>\n",
       "<tr><td><b> nr. points&nbsp/&nbspfaces </b></td><td>24461&nbsp/&nbsp24459</td></tr>\n",
       "\n",
       "<tr><td><b> cell data array </b></td><td>MaterialIds</td></tr>\n",
       "</table>\n",
       "</table>"
      ],
      "text/plain": [
       "<Mesh(0x5636f01e9a40) at 0x7fc1735d7520>"
      ]
     },
     "execution_count": 5,
     "metadata": {},
     "output_type": "execute_result"
    }
   ],
   "source": [
    "# Warp the mesh\n",
    "mesh_warped = mesh.clone().warp(sources, targets)\n",
    "mesh_warped.c(\"blue\").wireframe()"
   ]
  },
  {
   "cell_type": "code",
   "execution_count": 6,
   "metadata": {},
   "outputs": [],
   "source": [
    "# Create the arrows representing the displacement\n",
    "arrow = Arrows(sources, targets)\n",
    "\n",
    "# Show the meshes and the arrow\n",
    "show(mesh, mesh_warped, arrow, axes=1).close()"
   ]
  }
 ],
 "metadata": {
  "kernelspec": {
   "display_name": "Python 3 (ipykernel)",
   "language": "python",
   "name": "python3"
  },
  "language_info": {
   "codemirror_mode": {
    "name": "ipython",
    "version": 3
   },
   "file_extension": ".py",
   "mimetype": "text/x-python",
   "name": "python",
   "nbconvert_exporter": "python",
   "pygments_lexer": "ipython3",
   "version": "3.10.10"
  }
 },
 "nbformat": 4,
 "nbformat_minor": 2
}
