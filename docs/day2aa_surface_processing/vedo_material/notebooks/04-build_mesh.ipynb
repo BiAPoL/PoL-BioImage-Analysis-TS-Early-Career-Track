{
 "cells": [
  {
   "cell_type": "markdown",
   "metadata": {},
   "source": [
    "# Build a mesh"
   ]
  },
  {
   "cell_type": "code",
   "execution_count": null,
   "metadata": {},
   "outputs": [],
   "source": [
    "from vedo import *\n",
    "settings.default_backend = \"vtk\"  # or k3d, ipyvtk, or 2d"
   ]
  },
  {
   "cell_type": "markdown",
   "metadata": {},
   "source": [
    "This code demonstrates how to create and display a 3D Mesh object.\n",
    "- The Mesh object is created from a list of vertices and a list of faces.\n",
    "- The backface color is set to violet, and vertex labels are generated for each vertex.\n",
    "- The mesh object's vertices and faces are printed to the console,\n",
    "and the mesh is displayed in a 3D visualization window along with\n",
    "the vertex labels and coordinate axes."
   ]
  },
  {
   "cell_type": "code",
   "execution_count": 2,
   "metadata": {},
   "outputs": [],
   "source": [
    "# Define a list of vertices and a list of faces to represent a 3D mesh:\n",
    "# The vertices are 3D points defined by their (x, y, z) coordinates\n",
    "# The faces are defined by the indices of the vertices that form each triangle\n",
    "# For example, the first triangle face is formed by vertex 0, 1, and 2\n",
    "verts = [(50, 50, 50), (70, 40, 50), (50, 40, 80), (80, 70, 50)]\n",
    "faces = [(0, 1, 2), (2, 1, 3), (1, 0, 3)]"
   ]
  },
  {
   "cell_type": "code",
   "execution_count": 3,
   "metadata": {},
   "outputs": [],
   "source": [
    "# Create a polygonal Mesh object using the vertices and faces lists\n",
    "mesh = Mesh([verts, faces])\n",
    "\n",
    "# Set the backface color of the mesh to violet\n",
    "mesh.backcolor(\"violet\")\n",
    "\n",
    "# Assign numerical labels (vertex indices) to the vertices of the mesh\n",
    "# These labels are displayed as text next to the vertices in the visualization\n",
    "labels = mesh.labels2d(\"id\")"
   ]
  },
  {
   "cell_type": "code",
   "execution_count": 4,
   "metadata": {},
   "outputs": [
    {
     "name": "stdout",
     "output_type": "stream",
     "text": [
      "points(): [[50. 50. 50.]\n",
      " [70. 40. 50.]\n",
      " [50. 40. 80.]\n",
      " [80. 70. 50.]]\n",
      "faces() : [[0, 1, 2], [2, 1, 3], [1, 0, 3]]\n"
     ]
    }
   ],
   "source": [
    "# Print information about the mesh:\n",
    "# points(): returns the list of vertices (points) of the mesh\n",
    "# faces() : returns the list of faces (triangles) of the mesh\n",
    "print(\"points():\", mesh.points())\n",
    "print(\"faces() :\", mesh.faces())"
   ]
  },
  {
   "cell_type": "code",
   "execution_count": 5,
   "metadata": {},
   "outputs": [
    {
     "data": {
      "text/html": [
       "<table>\n",
       "<tr>\n",
       "<td>\n",
       "<img src='data:image/png;base64,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'></img>\n",
       "</td>\n",
       "<td style='text-align: center; vertical-align: center;'><br/>\n",
       "<b><a href=\"https://vedo.embl.es/docs/vedo/mesh.html\" target=\"_blank\">vedo.mesh.Mesh</a></b>\n",
       "<table>\n",
       "<tr><td><b> bounds </b> <br/> (x/y/z) </td><td>50.00 ... 80.00<br/>40.00 ... 70.00<br/>50.00 ... 80.00</td></tr>\n",
       "<tr><td><b> center of mass </b></td><td>(62.5, 50.0, 57.5)</td></tr>\n",
       "<tr><td><b> average size </b></td><td>21.095</td></tr>\n",
       "<tr><td><b> nr. points&nbsp/&nbspfaces </b></td><td>4&nbsp/&nbsp3</td></tr>\n",
       "\n",
       "\n",
       "</table>\n",
       "</table>"
      ],
      "text/plain": [
       "<Mesh(0x562af4105e20) at 0x7f6f037507c0>"
      ]
     },
     "execution_count": 5,
     "metadata": {},
     "output_type": "execute_result"
    }
   ],
   "source": [
    "mesh"
   ]
  },
  {
   "cell_type": "code",
   "execution_count": 6,
   "metadata": {},
   "outputs": [],
   "source": [
    "# Display the mesh and the vertex labels in a 3D visualization window\n",
    "# axes=1 enables display of the cartesian axes\n",
    "show(mesh, labels, axes=1).close()"
   ]
  }
 ],
 "metadata": {
  "kernelspec": {
   "display_name": "Python 3 (ipykernel)",
   "language": "python",
   "name": "python3"
  },
  "language_info": {
   "codemirror_mode": {
    "name": "ipython",
    "version": 3
   },
   "file_extension": ".py",
   "mimetype": "text/x-python",
   "name": "python",
   "nbconvert_exporter": "python",
   "pygments_lexer": "ipython3",
   "version": "3.10.10"
  }
 },
 "nbformat": 4,
 "nbformat_minor": 2
}
