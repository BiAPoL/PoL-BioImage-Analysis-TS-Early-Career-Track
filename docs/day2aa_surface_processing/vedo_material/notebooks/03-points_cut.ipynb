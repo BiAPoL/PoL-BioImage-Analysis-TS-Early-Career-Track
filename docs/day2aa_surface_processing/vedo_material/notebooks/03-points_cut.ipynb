{
 "cells": [
  {
   "cell_type": "markdown",
   "metadata": {},
   "source": [
    "# Point clouds in vedo "
   ]
  },
  {
   "cell_type": "code",
   "execution_count": null,
   "metadata": {},
   "outputs": [],
   "source": [
    "from vedo import *\n",
    "settings.default_backend = \"vtk\"  # or k3d, ipyvtk, or 2d"
   ]
  },
  {
   "cell_type": "code",
   "execution_count": 13,
   "metadata": {},
   "outputs": [
    {
     "data": {
      "text/html": [
       "<table>\n",
       "<tr>\n",
       "<td>\n",
       "<img src='data:image/png;base64,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'></img>\n",
       "</td>\n",
       "<td style='text-align: center; vertical-align: center;'><br/>\n",
       "<b><a href=\"https://vedo.embl.es/docs/vedo/pointcloud.html\" target=\"_blank\">vedo.pointcloud.Points</a></b>\n",
       "<table>\n",
       "<tr><td><b> bounds </b> <br/> (x/y/z) </td><td>2.902e-4 ... 0.9993<br/>5.838e-6 ... 0.9999<br/>3.116e-4 ... 0.9995</td></tr>\n",
       "<tr><td><b> center of mass </b></td><td>(0.507, 0.497, 0.501)</td></tr>\n",
       "<tr><td><b> average size </b></td><td>0.483</td></tr>\n",
       "<tr><td><b> nr. points </b></td><td>2000</td></tr>\n",
       "\n",
       "\n",
       "</table>\n",
       "</table>"
      ],
      "text/plain": [
       "<Points(0x5577fbd34be0) at 0x7fc410f23e20>"
      ]
     },
     "execution_count": 13,
     "metadata": {},
     "output_type": "execute_result"
    }
   ],
   "source": [
    "points = np.random.rand(2000, 3)\n",
    "\n",
    "pts = Points(points)\n",
    "pln = Plane(pos=(0.5, 0.5, 0.6), normal=(1, 0, 0), s=(1.5, 1.5))\n",
    "pln.alpha(0.5)\n",
    "pts"
   ]
  },
  {
   "cell_type": "code",
   "execution_count": 14,
   "metadata": {},
   "outputs": [],
   "source": [
    "show(pts, pln, axes=1).close()"
   ]
  },
  {
   "cell_type": "code",
   "execution_count": 18,
   "metadata": {},
   "outputs": [
    {
     "data": {
      "text/html": [
       "<table>\n",
       "<tr>\n",
       "<td>\n",
       "<img src='data:image/png;base64,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'></img>\n",
       "</td>\n",
       "<td style='text-align: center; vertical-align: center;'><br/>\n",
       "<b><a href=\"https://vedo.embl.es/docs/vedo/pointcloud.html\" target=\"_blank\">vedo.pointcloud.Points</a></b>\n",
       "<table>\n",
       "<tr><td><b> bounds </b> <br/> (x/y/z) </td><td>0.5004 ... 0.9993<br/>2.823e-3 ... 0.9999<br/>3.116e-4 ... 0.9995</td></tr>\n",
       "<tr><td><b> center of mass </b></td><td>(0.751, 0.488, 0.503)</td></tr>\n",
       "<tr><td><b> average size </b></td><td>0.411</td></tr>\n",
       "<tr><td><b> nr. points </b></td><td>1025</td></tr>\n",
       "\n",
       "\n",
       "</table>\n",
       "</table>"
      ],
      "text/plain": [
       "<Points(0x5577fbe43900) at 0x7fc40dd30280>"
      ]
     },
     "execution_count": 18,
     "metadata": {},
     "output_type": "execute_result"
    }
   ],
   "source": [
    "pts = Points(points)\n",
    "pts.cut_with_plane((0.5, 0.5, 0.6))"
   ]
  },
  {
   "cell_type": "code",
   "execution_count": 16,
   "metadata": {},
   "outputs": [],
   "source": [
    "show(pts, pln, axes=1).close()"
   ]
  }
 ],
 "metadata": {
  "kernelspec": {
   "display_name": "Python 3 (ipykernel)",
   "language": "python",
   "name": "python3"
  },
  "language_info": {
   "codemirror_mode": {
    "name": "ipython",
    "version": 3
   },
   "file_extension": ".py",
   "mimetype": "text/x-python",
   "name": "python",
   "nbconvert_exporter": "python",
   "pygments_lexer": "ipython3",
   "version": "3.10.10"
  }
 },
 "nbformat": 4,
 "nbformat_minor": 2
}
