{
 "cells": [
  {
   "cell_type": "markdown",
   "id": "f6dc47ed-b5c4-4e23-8af3-365fa5aea930",
   "metadata": {},
   "source": [
    "# Basic descriptive statistics\n",
    "The term [descriptive statistics](https://en.wikipedia.org/wiki/Descriptive_statistics) refers to methods that allow summarizing collections of data. "
   ]
  },
  {
   "cell_type": "code",
   "execution_count": 1,
   "id": "afe45a7b-d925-46b6-b2c3-8fdcbdafae5c",
   "metadata": {},
   "outputs": [],
   "source": [
    "import numpy as np\n",
    "import pandas as pd\n",
    "import statistics\n",
    "from scipy import stats\n",
    "import matplotlib.pyplot as plt\n",
    "import seaborn as sns"
   ]
  },
  {
   "cell_type": "markdown",
   "id": "3358ad75",
   "metadata": {},
   "source": [
    "To demonstrate the most important methods, we start by defining a dataset first."
   ]
  },
  {
   "cell_type": "code",
   "execution_count": 2,
   "id": "52c2d369-3c34-42f1-860d-4b15aa0a56fb",
   "metadata": {},
   "outputs": [
    {
     "name": "stdout",
     "output_type": "stream",
     "text": [
      "[7, 5, 5, 6, 6, 7, 8, 7, 2, 4, 6, 4, 1, 6, 4, 5, 2, 7, 6, 5, 9, 5, 6, 3, 4, 8, 6, 2, 4, 6, 5, 4, 1, 5, 6, 7, 8, 3, 4, 5, 8, 6, 3, 7, 6, 9]\n"
     ]
    }
   ],
   "source": [
    "measurements = [7, 5, 5, 6, 6, 7, 8, 7, 2, 4, 6, 4, 1, 6, 4, 5, 2, 7, 6, 5, 9, 5, 6, 3, 4, 8, 6, 2, 4, 6, 5, 4, 1, 5, 6, 7, 8, 3, 4, 5, 8, 6, 3, 7, 6, 9]\n",
    "print(measurements)"
   ]
  },
  {
   "cell_type": "markdown",
   "id": "8fc84d62",
   "metadata": {},
   "source": [
    "Let's plot a histogram of our data to get a feel for the distribution."
   ]
  },
  {
   "cell_type": "code",
   "execution_count": 3,
   "id": "3bc76406",
   "metadata": {},
   "outputs": [
    {
     "data": {
      "text/plain": [
       "<seaborn.axisgrid.FacetGrid at 0x161836370>"
      ]
     },
     "execution_count": 3,
     "metadata": {},
     "output_type": "execute_result"
    },
    {
     "data": {
      "image/png": "[encoded data removed]",
      "text/plain": [
       "<Figure size 700x350 with 1 Axes>"
      ]
     },
     "metadata": {},
     "output_type": "display_data"
    }
   ],
   "source": [
    "sns.displot(measurements, \n",
    "            bins=9, \n",
    "            kde=True,\n",
    "            height=3.5,\n",
    "            aspect=2)"
   ]
  },
  {
   "cell_type": "markdown",
   "id": "495cce67-9f45-4b36-842d-404747ba43a1",
   "metadata": {},
   "source": [
    "## Measurements of central tendency\n",
    "We can measure the _location_ of our `measurement` in space using [numpy's statistics functions](https://numpy.org/doc/stable/reference/routines.statistics.html) and Python's [statistics module](https://docs.python.org/3/library/statistics.html)."
   ]
  },
  {
   "cell_type": "code",
   "execution_count": 4,
   "id": "068fadac-1e6d-4449-b074-6b320ff85bbf",
   "metadata": {},
   "outputs": [
    {
     "data": {
      "text/plain": [
       "6"
      ]
     },
     "execution_count": 4,
     "metadata": {},
     "output_type": "execute_result"
    }
   ],
   "source": [
    "mode = statistics.mode(measurements)\n",
    "mode"
   ]
  },
  {
   "cell_type": "code",
   "execution_count": 5,
   "id": "5c8785a5-8f3e-43f3-abb6-ab798d2d0e8e",
   "metadata": {},
   "outputs": [
    {
     "data": {
      "text/plain": [
       "5.5"
      ]
     },
     "execution_count": 5,
     "metadata": {},
     "output_type": "execute_result"
    }
   ],
   "source": [
    "median = np.median(measurements)\n",
    "median"
   ]
  },
  {
   "cell_type": "code",
   "execution_count": 6,
   "id": "ae6d6f1d-da15-4fb3-9021-bfffa18b6e76",
   "metadata": {},
   "outputs": [
    {
     "data": {
      "text/plain": [
       "5.282608695652174"
      ]
     },
     "execution_count": 6,
     "metadata": {},
     "output_type": "execute_result"
    }
   ],
   "source": [
    "mean = np.mean(measurements)\n",
    "mean"
   ]
  },
  {
   "cell_type": "markdown",
   "id": "b14d6e91-b0b8-4acf-8fa4-616aca040bb8",
   "metadata": {},
   "source": [
    "## Measurements of spread\n",
    "Numpy also allows measuring the spread of `measurements`."
   ]
  },
  {
   "cell_type": "code",
   "execution_count": 7,
   "id": "21cc5cfa-6e48-481b-a9d1-a51e114976b5",
   "metadata": {},
   "outputs": [
    {
     "data": {
      "text/plain": [
       "1.96339372868445"
      ]
     },
     "execution_count": 7,
     "metadata": {},
     "output_type": "execute_result"
    }
   ],
   "source": [
    "standard_deviation = np.std(measurements)\n",
    "standard_deviation"
   ]
  },
  {
   "cell_type": "code",
   "execution_count": 8,
   "id": "90a53582-7f8b-4c46-9360-224ea142acc3",
   "metadata": {},
   "outputs": [
    {
     "data": {
      "text/plain": [
       "3.8549149338374282"
      ]
     },
     "execution_count": 8,
     "metadata": {},
     "output_type": "execute_result"
    }
   ],
   "source": [
    "variance = np.var(measurements)\n",
    "variance"
   ]
  },
  {
   "cell_type": "code",
   "execution_count": 9,
   "id": "959c06f8-05eb-481c-9fbd-32b965e7cd40",
   "metadata": {},
   "outputs": [
    {
     "data": {
      "text/plain": [
       "(1, 9)"
      ]
     },
     "execution_count": 9,
     "metadata": {},
     "output_type": "execute_result"
    }
   ],
   "source": [
    "np.min(measurements), np.max(measurements)"
   ]
  },
  {
   "cell_type": "code",
   "execution_count": 10,
   "id": "b2501f96-4f16-488f-9b9b-74d62309d471",
   "metadata": {},
   "outputs": [
    {
     "data": {
      "text/plain": [
       "array([4.  , 5.5 , 6.75])"
      ]
     },
     "execution_count": 10,
     "metadata": {},
     "output_type": "execute_result"
    }
   ],
   "source": [
    "np.percentile(measurements, [25, 50, 75])"
   ]
  },
  {
   "cell_type": "code",
   "execution_count": 11,
   "id": "f4191429-4aa3-40a0-9f88-c98a8945e91a",
   "metadata": {},
   "outputs": [
    {
     "data": {
      "text/plain": [
       "array([4.  , 5.5 , 6.75])"
      ]
     },
     "execution_count": 11,
     "metadata": {},
     "output_type": "execute_result"
    }
   ],
   "source": [
    "np.quantile(measurements, [0.25, .50, .75])"
   ]
  },
  {
   "cell_type": "markdown",
   "id": "fec0fbb1-20bb-4af3-98bc-60dfd02400df",
   "metadata": {},
   "source": [
    "With the array sorted, it is easier to interpret some of these measurements. We can sort a list like this."
   ]
  },
  {
   "cell_type": "code",
   "execution_count": 12,
   "id": "f1cc0345-45ac-4e6e-9744-37b57e294888",
   "metadata": {},
   "outputs": [
    {
     "name": "stdout",
     "output_type": "stream",
     "text": [
      "[1, 1, 2, 2, 2, 3, 3, 3, 4, 4, 4, 4, 4, 4, 4, 5, 5, 5, 5, 5, 5, 5, 5, 6, 6, 6, 6, 6, 6, 6, 6, 6, 6, 6, 7, 7, 7, 7, 7, 7, 8, 8, 8, 8, 9, 9]\n"
     ]
    }
   ],
   "source": [
    "print(sorted(measurements))"
   ]
  },
  {
   "cell_type": "markdown",
   "id": "4effef99",
   "metadata": {},
   "source": [
    "## Testing Whether the Data is Normal (Gaussian) Distributed\n",
    "\n",
    "Many parametric statistical tests assume that your data is normally distributed. Before you use such a test, it is wise to test your data for normality. Commonly, this is done by the [D’Agostino’s K-squared test](https://docs.scipy.org/doc/scipy/reference/generated/scipy.stats.normaltest.html) (`scipy.stats.normaltest`) other possibilities are the [Shapiro-Wilk test](https://docs.scipy.org/doc/scipy/reference/generated/scipy.stats.shapiro.html?highlight=shapiro) (`scipy.stats.shapiro`) or the [Anderson-Darling test](https://docs.scipy.org/doc/scipy/reference/generated/scipy.stats.anderson.html) (`scipy.stats.anderson`). \n",
    "\n",
    "Note that some sources also recommend the [Kolmogorov-Smirnov Test](https://docs.scipy.org/doc/scipy/reference/generated/scipy.stats.kstest.html) (`scipy.stats.kstest`), which is a general tests for goodness of fit. When testing against a standard normal distribution, the results are only valid, if the data was normalized before the test (i.e. has a mean of 0 and a standard deviation of 1)."
   ]
  },
  {
   "cell_type": "code",
   "execution_count": 13,
   "id": "21ba22a8",
   "metadata": {},
   "outputs": [
    {
     "data": {
      "text/plain": [
       "NormaltestResult(statistic=0.8221865757355512, pvalue=0.6629250858482892)"
      ]
     },
     "execution_count": 13,
     "metadata": {},
     "output_type": "execute_result"
    }
   ],
   "source": [
    "stats.normaltest(measurements)"
   ]
  },
  {
   "cell_type": "markdown",
   "id": "3aaf2589",
   "metadata": {},
   "source": [
    "The pvalue is greater than 0.05, meaning that the null hypothesis, that the data was drawn from a normal distribution was not rejected. I.e. we can assume that the data is normal distributed and use parametric tests."
   ]
  },
  {
   "cell_type": "markdown",
   "id": "8d1c8533-cea2-4086-9f09-68e9fe48122d",
   "metadata": {},
   "source": [
    "## Skewness"
   ]
  },
  {
   "cell_type": "markdown",
   "id": "85166abf-9e00-4c72-9122-bcc9c71f523a",
   "metadata": {},
   "source": [
    "Skewness is a measure of the asymetry of a distribution. Typically, positive values indicate a tail to the right, as shown below, while negative indicate a tail to the left. Values close to zero mean a symetric distribution."
   ]
  },
  {
   "cell_type": "code",
   "execution_count": 14,
   "id": "5b5f723b-3b73-457d-99ab-8dec86666cde",
   "metadata": {},
   "outputs": [],
   "source": [
    "# Fixed seed for reproducibility\n",
    "np.random.seed(4)"
   ]
  },
  {
   "cell_type": "code",
   "execution_count": 15,
   "id": "fa80587a-bc4f-47d6-87c5-18bb67b204d5",
   "metadata": {},
   "outputs": [
    {
     "data": {
      "text/plain": [
       "(array([12., 10., 16., 12., 19., 23.,  2.,  2.,  2.,  2.]),\n",
       " array([ 1. ,  2.2,  3.4,  4.6,  5.8,  7. ,  8.2,  9.4, 10.6, 11.8, 13. ]),\n",
       " <BarContainer object of 10 artists>)"
      ]
     },
     "execution_count": 15,
     "metadata": {},
     "output_type": "execute_result"
    },
    {
     "data": {
      "image/png": "[encoded data removed]",
      "text/plain": [
       "<Figure size 640x480 with 1 Axes>"
      ]
     },
     "metadata": {},
     "output_type": "display_data"
    }
   ],
   "source": [
    "samples = np.random.poisson(lam = mean, size = 100)\n",
    "plt.hist(samples)"
   ]
  },
  {
   "cell_type": "code",
   "execution_count": 16,
   "id": "ba974a80-0365-4464-9759-b27f67cdaa8b",
   "metadata": {},
   "outputs": [
    {
     "data": {
      "text/plain": [
       "0.5144761536788754"
      ]
     },
     "execution_count": 16,
     "metadata": {},
     "output_type": "execute_result"
    }
   ],
   "source": [
    "stats.skew(samples)"
   ]
  },
  {
   "cell_type": "markdown",
   "id": "bd59b3c7-8f85-4511-bf06-0abeb2844347",
   "metadata": {},
   "source": [
    "Let's check now the skewness of a normal distribution."
   ]
  },
  {
   "cell_type": "code",
   "execution_count": 17,
   "id": "b6e963cb-de06-4058-9bdb-a3bda8ba4c00",
   "metadata": {},
   "outputs": [
    {
     "data": {
      "text/plain": [
       "(array([ 2.,  5., 11., 14., 16., 17., 12., 10.,  9.,  4.]),\n",
       " array([0.95507676, 1.83302436, 2.71097195, 3.58891955, 4.46686714,\n",
       "        5.34481474, 6.22276233, 7.10070992, 7.97865752, 8.85660511,\n",
       "        9.73455271]),\n",
       " <BarContainer object of 10 artists>)"
      ]
     },
     "execution_count": 17,
     "metadata": {},
     "output_type": "execute_result"
    },
    {
     "data": {
      "image/png": "[encoded data removed]",
      "text/plain": [
       "<Figure size 640x480 with 1 Axes>"
      ]
     },
     "metadata": {},
     "output_type": "display_data"
    }
   ],
   "source": [
    "samples = np.random.normal(loc = mean, scale = standard_deviation, size = 100)\n",
    "plt.hist(samples)"
   ]
  },
  {
   "cell_type": "code",
   "execution_count": 18,
   "id": "66381e4f-522a-4fdb-be6b-ce055f7a1f42",
   "metadata": {},
   "outputs": [
    {
     "data": {
      "text/plain": [
       "-0.023475210203459915"
      ]
     },
     "execution_count": 18,
     "metadata": {},
     "output_type": "execute_result"
    }
   ],
   "source": [
    "stats.skew(samples)"
   ]
  },
  {
   "cell_type": "markdown",
   "id": "1a88999c",
   "metadata": {},
   "source": [
    "# Bootstrapping\n",
    "\n",
    "A big drawback of a statistical test that spits out a p-value is, that we need to understand how the statistical test works and which assumptions it makes in order to be sure that the result is reliable (and even then, the result may be not as reliable as the p-value suggests, cf [The Statistical Crisis in Science](https://www.americanscientist.org/article/the-statistical-crisis-in-science)).\n",
    "\n",
    "A more transparent way to judge the significance of the differences is to calculate confidence intervals and check if they overlap. We highly recommend reading [Justin Bois' statistics lessons on confidence intervals](https://justinbois.github.io/dd-pol/2022/lessons/04/confidence_intervals.html). Briefly, “If an experiment is repeated over and over again, the estimate I compute for a parameter, $\\hat\\theta$, will lie between the bounds of the 95% confidence interval for 95% of the experiments”. Or more loosely formulated, if I estimate that the true value lies within the 95% confidence interval, I am correct 95% of the time.\n",
    "\n",
    "We will use bootstrapping to estimate the 95% confidence intervals. Again, refer to [Justin's lessons](https://justinbois.github.io/dd-pol/2022/lessons/04/confidence_intervals.html) for an excellent explanation. Briefly, the recipe for generating a bootstrap [95%] confidence interval is as follows.\n",
    "1. Generate $B$ independent bootstrap samples. Each one is generated by drawing $n$ values out of the data array with replacement. Where $n$ is the number of measurements in the original experiment.\n",
    "2. Compute $\\hat\\theta^∗$ for each bootstrap sample to get the bootstrap replicates. \n",
    "3. The central 95% confidence interval consists of the percentiles 2.5 and 97.5 of the bootstrap replicates.”\n"
   ]
  },
  {
   "attachments": {},
   "cell_type": "markdown",
   "id": "2633bba0",
   "metadata": {},
   "source": [
    "\n",
    "## Resampling demo\n",
    "Here is an example to demonstrate the resampling. We will use mean as our $\\hat\\theta$\n",
    "\n"
   ]
  },
  {
   "cell_type": "code",
   "execution_count": 19,
   "id": "c4f18edf",
   "metadata": {},
   "outputs": [
    {
     "name": "stdout",
     "output_type": "stream",
     "text": [
      "4.7863620427709455\n"
     ]
    },
    {
     "data": {
      "text/html": [
       "<div>\n",
       "<style scoped>\n",
       "    .dataframe tbody tr th:only-of-type {\n",
       "        vertical-align: middle;\n",
       "    }\n",
       "\n",
       "    .dataframe tbody tr th {\n",
       "        vertical-align: top;\n",
       "    }\n",
       "\n",
       "    .dataframe thead th {\n",
       "        text-align: right;\n",
       "    }\n",
       "</style>\n",
       "<table border=\"1\" class=\"dataframe\">\n",
       "  <thead>\n",
       "    <tr style=\"text-align: right;\">\n",
       "      <th></th>\n",
       "      <th>measured</th>\n",
       "    </tr>\n",
       "  </thead>\n",
       "  <tbody>\n",
       "    <tr>\n",
       "      <th>0</th>\n",
       "      <td>5.505617</td>\n",
       "    </tr>\n",
       "    <tr>\n",
       "      <th>1</th>\n",
       "      <td>9.999513</td>\n",
       "    </tr>\n",
       "    <tr>\n",
       "      <th>2</th>\n",
       "      <td>-4.959089</td>\n",
       "    </tr>\n",
       "    <tr>\n",
       "      <th>3</th>\n",
       "      <td>11.935985</td>\n",
       "    </tr>\n",
       "    <tr>\n",
       "      <th>4</th>\n",
       "      <td>0.816985</td>\n",
       "    </tr>\n",
       "    <tr>\n",
       "      <th>5</th>\n",
       "      <td>-10.845772</td>\n",
       "    </tr>\n",
       "    <tr>\n",
       "      <th>6</th>\n",
       "      <td>-1.477068</td>\n",
       "    </tr>\n",
       "    <tr>\n",
       "      <th>7</th>\n",
       "      <td>10.985752</td>\n",
       "    </tr>\n",
       "    <tr>\n",
       "      <th>8</th>\n",
       "      <td>8.322500</td>\n",
       "    </tr>\n",
       "    <tr>\n",
       "      <th>9</th>\n",
       "      <td>-6.474766</td>\n",
       "    </tr>\n",
       "    <tr>\n",
       "      <th>10</th>\n",
       "      <td>11.186697</td>\n",
       "    </tr>\n",
       "    <tr>\n",
       "      <th>11</th>\n",
       "      <td>4.120131</td>\n",
       "    </tr>\n",
       "    <tr>\n",
       "      <th>12</th>\n",
       "      <td>9.250724</td>\n",
       "    </tr>\n",
       "    <tr>\n",
       "      <th>13</th>\n",
       "      <td>8.322531</td>\n",
       "    </tr>\n",
       "    <tr>\n",
       "      <th>14</th>\n",
       "      <td>-6.568163</td>\n",
       "    </tr>\n",
       "    <tr>\n",
       "      <th>15</th>\n",
       "      <td>8.509972</td>\n",
       "    </tr>\n",
       "    <tr>\n",
       "      <th>16</th>\n",
       "      <td>-1.068873</td>\n",
       "    </tr>\n",
       "    <tr>\n",
       "      <th>17</th>\n",
       "      <td>20.469793</td>\n",
       "    </tr>\n",
       "    <tr>\n",
       "      <th>18</th>\n",
       "      <td>12.233416</td>\n",
       "    </tr>\n",
       "    <tr>\n",
       "      <th>19</th>\n",
       "      <td>5.461356</td>\n",
       "    </tr>\n",
       "  </tbody>\n",
       "</table>\n",
       "</div>"
      ],
      "text/plain": [
       "     measured\n",
       "0    5.505617\n",
       "1    9.999513\n",
       "2   -4.959089\n",
       "3   11.935985\n",
       "4    0.816985\n",
       "5  -10.845772\n",
       "6   -1.477068\n",
       "7   10.985752\n",
       "8    8.322500\n",
       "9   -6.474766\n",
       "10  11.186697\n",
       "11   4.120131\n",
       "12   9.250724\n",
       "13   8.322531\n",
       "14  -6.568163\n",
       "15   8.509972\n",
       "16  -1.068873\n",
       "17  20.469793\n",
       "18  12.233416\n",
       "19   5.461356"
      ]
     },
     "execution_count": 19,
     "metadata": {},
     "output_type": "execute_result"
    }
   ],
   "source": [
    "# Fixed seed for reproducibility\n",
    "np.random.seed(4)\n",
    "\n",
    "# use np.random.normal to simulate 20 measurements (size=20) drawn from a normal distribution \n",
    "# with true mean 5 (loc=5) and standard deviation 10 (scale=10)\n",
    "experiment = np.random.normal(size=20, loc=5, scale=10)\n",
    "\n",
    "# put the measurements into a pandas dataframe\n",
    "measured = pd.DataFrame({'measured': experiment})\n",
    "\n",
    "# calculate the mean\n",
    "print(measured['measured'].mean())\n",
    "\n",
    "# show the pandas dataframe\n",
    "measured"
   ]
  },
  {
   "cell_type": "code",
   "execution_count": 20,
   "id": "6eed9ca1",
   "metadata": {},
   "outputs": [
    {
     "name": "stdout",
     "output_type": "stream",
     "text": [
      "7.038275740527368\n"
     ]
    },
    {
     "data": {
      "text/html": [
       "<div>\n",
       "<style scoped>\n",
       "    .dataframe tbody tr th:only-of-type {\n",
       "        vertical-align: middle;\n",
       "    }\n",
       "\n",
       "    .dataframe tbody tr th {\n",
       "        vertical-align: top;\n",
       "    }\n",
       "\n",
       "    .dataframe thead th {\n",
       "        text-align: right;\n",
       "    }\n",
       "</style>\n",
       "<table border=\"1\" class=\"dataframe\">\n",
       "  <thead>\n",
       "    <tr style=\"text-align: right;\">\n",
       "      <th></th>\n",
       "      <th>resampled</th>\n",
       "    </tr>\n",
       "  </thead>\n",
       "  <tbody>\n",
       "    <tr>\n",
       "      <th>17</th>\n",
       "      <td>20.469793</td>\n",
       "    </tr>\n",
       "    <tr>\n",
       "      <th>16</th>\n",
       "      <td>-1.068873</td>\n",
       "    </tr>\n",
       "    <tr>\n",
       "      <th>17</th>\n",
       "      <td>20.469793</td>\n",
       "    </tr>\n",
       "    <tr>\n",
       "      <th>9</th>\n",
       "      <td>-6.474766</td>\n",
       "    </tr>\n",
       "    <tr>\n",
       "      <th>16</th>\n",
       "      <td>-1.068873</td>\n",
       "    </tr>\n",
       "    <tr>\n",
       "      <th>12</th>\n",
       "      <td>9.250724</td>\n",
       "    </tr>\n",
       "    <tr>\n",
       "      <th>18</th>\n",
       "      <td>12.233416</td>\n",
       "    </tr>\n",
       "    <tr>\n",
       "      <th>3</th>\n",
       "      <td>11.935985</td>\n",
       "    </tr>\n",
       "    <tr>\n",
       "      <th>11</th>\n",
       "      <td>4.120131</td>\n",
       "    </tr>\n",
       "    <tr>\n",
       "      <th>18</th>\n",
       "      <td>12.233416</td>\n",
       "    </tr>\n",
       "    <tr>\n",
       "      <th>6</th>\n",
       "      <td>-1.477068</td>\n",
       "    </tr>\n",
       "    <tr>\n",
       "      <th>7</th>\n",
       "      <td>10.985752</td>\n",
       "    </tr>\n",
       "    <tr>\n",
       "      <th>13</th>\n",
       "      <td>8.322531</td>\n",
       "    </tr>\n",
       "    <tr>\n",
       "      <th>10</th>\n",
       "      <td>11.186697</td>\n",
       "    </tr>\n",
       "    <tr>\n",
       "      <th>7</th>\n",
       "      <td>10.985752</td>\n",
       "    </tr>\n",
       "    <tr>\n",
       "      <th>9</th>\n",
       "      <td>-6.474766</td>\n",
       "    </tr>\n",
       "    <tr>\n",
       "      <th>18</th>\n",
       "      <td>12.233416</td>\n",
       "    </tr>\n",
       "    <tr>\n",
       "      <th>19</th>\n",
       "      <td>5.461356</td>\n",
       "    </tr>\n",
       "    <tr>\n",
       "      <th>16</th>\n",
       "      <td>-1.068873</td>\n",
       "    </tr>\n",
       "    <tr>\n",
       "      <th>15</th>\n",
       "      <td>8.509972</td>\n",
       "    </tr>\n",
       "  </tbody>\n",
       "</table>\n",
       "</div>"
      ],
      "text/plain": [
       "    resampled\n",
       "17  20.469793\n",
       "16  -1.068873\n",
       "17  20.469793\n",
       "9   -6.474766\n",
       "16  -1.068873\n",
       "12   9.250724\n",
       "18  12.233416\n",
       "3   11.935985\n",
       "11   4.120131\n",
       "18  12.233416\n",
       "6   -1.477068\n",
       "7   10.985752\n",
       "13   8.322531\n",
       "10  11.186697\n",
       "7   10.985752\n",
       "9   -6.474766\n",
       "18  12.233416\n",
       "19   5.461356\n",
       "16  -1.068873\n",
       "15   8.509972"
      ]
     },
     "execution_count": 20,
     "metadata": {},
     "output_type": "execute_result"
    }
   ],
   "source": [
    "# resample the measurements (np.random.choice)\n",
    "resampled_index = np.random.choice(measured.index, size=measured.shape[0])\n",
    "\n",
    "# put the results into a pandas dataframe, calculate the mean and show the output as we did above\n",
    "resampled = pd.DataFrame({'resampled': measured['measured'][resampled_index]})\n",
    "\n",
    "# calculate the mean\n",
    "print(resampled['resampled'].mean())\n",
    "\n",
    "# show the pandas dataframe\n",
    "resampled"
   ]
  },
  {
   "cell_type": "markdown",
   "id": "58dde7bd",
   "metadata": {},
   "source": [
    "Run the previous cell multiple times to see how the output changes."
   ]
  },
  {
   "cell_type": "code",
   "execution_count": 21,
   "id": "471c0253",
   "metadata": {},
   "outputs": [
    {
     "data": {
      "text/plain": [
       "array([1.40321507, 8.1937104 ])"
      ]
     },
     "execution_count": 21,
     "metadata": {},
     "output_type": "execute_result"
    }
   ],
   "source": [
    "# let's create 1000 bootstrap samples for the mean and calculate the 95% confidence interval\n",
    "bootstrap_size = 1000\n",
    "bootstrap_samples = np.empty((bootstrap_size,))\n",
    "for i in range(bootstrap_size):\n",
    "    resampled_index = np.random.choice(measured.index, size=measured.shape[0])\n",
    "    bootstrap_samples[i] = measured['measured'][resampled_index].mean()\n",
    "\n",
    "confidence_interval = np.percentile(bootstrap_samples, [2.5, 97.5])\n",
    "confidence_interval"
   ]
  },
  {
   "cell_type": "markdown",
   "id": "2504a716",
   "metadata": {},
   "source": [
    "How does our true mean compare to the 95% confidence interval?\n"
   ]
  },
  {
   "cell_type": "code",
   "execution_count": 22,
   "id": "f56ad09f",
   "metadata": {},
   "outputs": [],
   "source": [
    "#Try the same with `np.median`\n"
   ]
  },
  {
   "attachments": {},
   "cell_type": "markdown",
   "id": "af8e7d72",
   "metadata": {},
   "source": [
    "# Some real data: Microtubules gliding over a glass surface propelled by kinesin-1 motor proteins\n",
    "\n",
    "The [dataset](https://zenodo.org/record/7403517) consists of timelapse fluorescence micrographs. A tracking algorithm was applied to the micrographs and tracked the microtubule tips over time to measure their velocity as described in this figure from the [original publication by Korten et al. 2018](https://pubs.rsc.org/en/content/articlehtml/2018/lc/c8lc00547h) ([CC-BY-NC 3.0](http://creativecommons.org/licenses/by-nc/3.0/)): \n",
    "\n",
    "<img src=\"https://github.com/BiAPoL/Image-data-science-with-Python-and-Napari-EPFL2022/raw/main/docs/day4c_Statistics/microtubuledata.jpg\" width=400> \n",
    "\n"
   ]
  },
  {
   "cell_type": "markdown",
   "id": "88ab20f3",
   "metadata": {},
   "source": [
    "First, we load the data. Since the data is in a matlab file, we use `loadmat` from `scipy.io`."
   ]
  },
  {
   "cell_type": "code",
   "execution_count": 1,
   "id": "8e6670ad",
   "metadata": {},
   "outputs": [],
   "source": [
    "from scipy.io import loadmat\n",
    "\n",
    "data = loadmat('../../data/microtubule_tracking/summary.mat')"
   ]
  },
  {
   "cell_type": "markdown",
   "id": "196f5b57",
   "metadata": {},
   "source": [
    "## Data wrangling\n",
    "\n",
    "The output of loadmat is quite a mess. Therefore, we need to do some data wrangling to get the data into a tidy pandas dataframe."
   ]
  },
  {
   "cell_type": "code",
   "execution_count": 24,
   "id": "3360f608",
   "metadata": {},
   "outputs": [
    {
     "data": {
      "text/html": [
       "<div>\n",
       "<style scoped>\n",
       "    .dataframe tbody tr th:only-of-type {\n",
       "        vertical-align: middle;\n",
       "    }\n",
       "\n",
       "    .dataframe tbody tr th {\n",
       "        vertical-align: top;\n",
       "    }\n",
       "\n",
       "    .dataframe thead th {\n",
       "        text-align: right;\n",
       "    }\n",
       "</style>\n",
       "<table border=\"1\" class=\"dataframe\">\n",
       "  <thead>\n",
       "    <tr style=\"text-align: right;\">\n",
       "      <th></th>\n",
       "      <th>AMPPNP concentration</th>\n",
       "      <th>file name</th>\n",
       "      <th>microtubule ID</th>\n",
       "      <th>frame-to-frame microtubule tip velocity</th>\n",
       "    </tr>\n",
       "  </thead>\n",
       "  <tbody>\n",
       "    <tr>\n",
       "      <th>0</th>\n",
       "      <td>100</td>\n",
       "      <td>2015-12-12_Run_1_AMPPNP_row_1_0100_1_119.nd2</td>\n",
       "      <td>0</td>\n",
       "      <td>889.268843</td>\n",
       "    </tr>\n",
       "    <tr>\n",
       "      <th>1</th>\n",
       "      <td>100</td>\n",
       "      <td>2015-12-12_Run_1_AMPPNP_row_1_0100_1_119.nd2</td>\n",
       "      <td>0</td>\n",
       "      <td>859.854055</td>\n",
       "    </tr>\n",
       "    <tr>\n",
       "      <th>2</th>\n",
       "      <td>100</td>\n",
       "      <td>2015-12-12_Run_1_AMPPNP_row_1_0100_1_119.nd2</td>\n",
       "      <td>0</td>\n",
       "      <td>493.120518</td>\n",
       "    </tr>\n",
       "    <tr>\n",
       "      <th>3</th>\n",
       "      <td>100</td>\n",
       "      <td>2015-12-12_Run_1_AMPPNP_row_1_0100_1_119.nd2</td>\n",
       "      <td>0</td>\n",
       "      <td>792.180836</td>\n",
       "    </tr>\n",
       "    <tr>\n",
       "      <th>4</th>\n",
       "      <td>100</td>\n",
       "      <td>2015-12-12_Run_1_AMPPNP_row_1_0100_1_119.nd2</td>\n",
       "      <td>0</td>\n",
       "      <td>963.193758</td>\n",
       "    </tr>\n",
       "    <tr>\n",
       "      <th>...</th>\n",
       "      <td>...</td>\n",
       "      <td>...</td>\n",
       "      <td>...</td>\n",
       "      <td>...</td>\n",
       "    </tr>\n",
       "    <tr>\n",
       "      <th>44828</th>\n",
       "      <td>0</td>\n",
       "      <td>2015-12-12_Run_1_AMPPNP_row_1_ATP_2_108.nd2</td>\n",
       "      <td>4482</td>\n",
       "      <td>701.328330</td>\n",
       "    </tr>\n",
       "    <tr>\n",
       "      <th>44829</th>\n",
       "      <td>0</td>\n",
       "      <td>2015-12-12_Run_1_AMPPNP_row_1_ATP_2_108.nd2</td>\n",
       "      <td>4482</td>\n",
       "      <td>807.595722</td>\n",
       "    </tr>\n",
       "    <tr>\n",
       "      <th>44837</th>\n",
       "      <td>0</td>\n",
       "      <td>2015-12-12_Run_1_AMPPNP_row_1_ATP_2_108.nd2</td>\n",
       "      <td>4483</td>\n",
       "      <td>691.523977</td>\n",
       "    </tr>\n",
       "    <tr>\n",
       "      <th>44838</th>\n",
       "      <td>0</td>\n",
       "      <td>2015-12-12_Run_1_AMPPNP_row_1_ATP_2_108.nd2</td>\n",
       "      <td>4483</td>\n",
       "      <td>868.650138</td>\n",
       "    </tr>\n",
       "    <tr>\n",
       "      <th>44839</th>\n",
       "      <td>0</td>\n",
       "      <td>2015-12-12_Run_1_AMPPNP_row_1_ATP_2_108.nd2</td>\n",
       "      <td>4483</td>\n",
       "      <td>784.216683</td>\n",
       "    </tr>\n",
       "  </tbody>\n",
       "</table>\n",
       "<p>33700 rows × 4 columns</p>\n",
       "</div>"
      ],
      "text/plain": [
       "       AMPPNP concentration                                     file name  \\\n",
       "0                       100  2015-12-12_Run_1_AMPPNP_row_1_0100_1_119.nd2   \n",
       "1                       100  2015-12-12_Run_1_AMPPNP_row_1_0100_1_119.nd2   \n",
       "2                       100  2015-12-12_Run_1_AMPPNP_row_1_0100_1_119.nd2   \n",
       "3                       100  2015-12-12_Run_1_AMPPNP_row_1_0100_1_119.nd2   \n",
       "4                       100  2015-12-12_Run_1_AMPPNP_row_1_0100_1_119.nd2   \n",
       "...                     ...                                           ...   \n",
       "44828                     0   2015-12-12_Run_1_AMPPNP_row_1_ATP_2_108.nd2   \n",
       "44829                     0   2015-12-12_Run_1_AMPPNP_row_1_ATP_2_108.nd2   \n",
       "44837                     0   2015-12-12_Run_1_AMPPNP_row_1_ATP_2_108.nd2   \n",
       "44838                     0   2015-12-12_Run_1_AMPPNP_row_1_ATP_2_108.nd2   \n",
       "44839                     0   2015-12-12_Run_1_AMPPNP_row_1_ATP_2_108.nd2   \n",
       "\n",
       "       microtubule ID  frame-to-frame microtubule tip velocity  \n",
       "0                   0                               889.268843  \n",
       "1                   0                               859.854055  \n",
       "2                   0                               493.120518  \n",
       "3                   0                               792.180836  \n",
       "4                   0                               963.193758  \n",
       "...               ...                                      ...  \n",
       "44828            4482                               701.328330  \n",
       "44829            4482                               807.595722  \n",
       "44837            4483                               691.523977  \n",
       "44838            4483                               868.650138  \n",
       "44839            4483                               784.216683  \n",
       "\n",
       "[33700 rows x 4 columns]"
      ]
     },
     "execution_count": 24,
     "metadata": {},
     "output_type": "execute_result"
    }
   ],
   "source": [
    "\n",
    "df = pd.DataFrame()\n",
    "microtubule_id = 0\n",
    "for i, amppnp_concentration in enumerate(data['concentrations']):\n",
    "    all_frame_to_frame_velocities = data['allSpeeds'][i][0]\n",
    "    for j in range(all_frame_to_frame_velocities.shape[1]):\n",
    "        df = pd.concat([df, pd.DataFrame({'AMPPNP concentration': amppnp_concentration[0], 'file name': data['fileNames'][i][0][0], 'microtubule ID': microtubule_id, 'frame-to-frame microtubule tip velocity': all_frame_to_frame_velocities[:, j]})], ignore_index=True)\n",
    "        microtubule_id += 1\n",
    "df = df.dropna()\n",
    "df\n"
   ]
  },
  {
   "cell_type": "markdown",
   "id": "a27b6067",
   "metadata": {},
   "source": [
    "Let's plot the median microtubule velocities for each AMPPNP concentration"
   ]
  },
  {
   "cell_type": "code",
   "execution_count": 25,
   "id": "e20f6f08",
   "metadata": {},
   "outputs": [
    {
     "data": {
      "image/png": "[encoded data removed]",
      "text/plain": [
       "<Figure size 640x480 with 1 Axes>"
      ]
     },
     "metadata": {},
     "output_type": "display_data"
    }
   ],
   "source": [
    "# get the columns AMPPNP concentration and frame-to-frame microtubule tip velocity\n",
    "concentration_velocity = df[['AMPPNP concentration','frame-to-frame microtubule tip velocity']]\n",
    "\n",
    "# use the `groupby` method of pandas to calculate the median velocity for each AMPPNP concentration\n",
    "concentration_median_velocity = concentration_velocity.groupby(['AMPPNP concentration']).median()\n",
    "\n",
    "# use seaborn for plotting\n",
    "plot = sns.scatterplot(concentration_median_velocity, x='AMPPNP concentration', y='frame-to-frame microtubule tip velocity')\n"
   ]
  },
  {
   "cell_type": "markdown",
   "id": "10ea4eda",
   "metadata": {},
   "source": [
    "Above, we assumed that both controls have the same median. Let's check that assumption:"
   ]
  },
  {
   "cell_type": "code",
   "execution_count": 26,
   "id": "6bd2e57d",
   "metadata": {},
   "outputs": [
    {
     "data": {
      "text/html": [
       "<div>\n",
       "<style scoped>\n",
       "    .dataframe tbody tr th:only-of-type {\n",
       "        vertical-align: middle;\n",
       "    }\n",
       "\n",
       "    .dataframe tbody tr th {\n",
       "        vertical-align: top;\n",
       "    }\n",
       "\n",
       "    .dataframe thead th {\n",
       "        text-align: right;\n",
       "    }\n",
       "</style>\n",
       "<table border=\"1\" class=\"dataframe\">\n",
       "  <thead>\n",
       "    <tr style=\"text-align: right;\">\n",
       "      <th></th>\n",
       "      <th>frame-to-frame microtubule tip velocity</th>\n",
       "    </tr>\n",
       "    <tr>\n",
       "      <th>file name</th>\n",
       "      <th></th>\n",
       "    </tr>\n",
       "  </thead>\n",
       "  <tbody>\n",
       "    <tr>\n",
       "      <th>2015-12-12_Run_1_AMPPNP_row_1_ATP_1_107.nd2</th>\n",
       "      <td>779.605417</td>\n",
       "    </tr>\n",
       "    <tr>\n",
       "      <th>2015-12-12_Run_1_AMPPNP_row_1_ATP_2_108.nd2</th>\n",
       "      <td>786.234078</td>\n",
       "    </tr>\n",
       "  </tbody>\n",
       "</table>\n",
       "</div>"
      ],
      "text/plain": [
       "                                             frame-to-frame microtubule tip velocity\n",
       "file name                                                                           \n",
       "2015-12-12_Run_1_AMPPNP_row_1_ATP_1_107.nd2                               779.605417\n",
       "2015-12-12_Run_1_AMPPNP_row_1_ATP_2_108.nd2                               786.234078"
      ]
     },
     "execution_count": 26,
     "metadata": {},
     "output_type": "execute_result"
    }
   ],
   "source": [
    "# Extract the controls from the dataframe\n",
    "controls = df[df['AMPPNP concentration']==0]\n",
    "\n",
    "# Calculate the median using pandas `groupby` method\n",
    "controls[['file name', 'frame-to-frame microtubule tip velocity']].groupby('file name').median()"
   ]
  },
  {
   "cell_type": "markdown",
   "id": "956a9497",
   "metadata": {},
   "source": [
    "The values are close, but maybe the difference is still significant?\n",
    "\n",
    "Let's use bootstrapping to find out."
   ]
  },
  {
   "cell_type": "markdown",
   "id": "c8e5be1d",
   "metadata": {},
   "source": [
    "## Apply bootstrapping to the data\n",
    "\n",
    "Remember how we only changed one line in the code above to calculate the confidence intervals for different parameters $\\hat\\theta$? That meant we were repeating ourselves. So let's write a function to avoid having to repeat ourselves now when we calculate the bootstrap intevals for our different controls."
   ]
  },
  {
   "cell_type": "code",
   "execution_count": 27,
   "id": "5e03c073",
   "metadata": {},
   "outputs": [],
   "source": [
    "def get_confidence_interval_by_bootstrapping(measurements:pd.DataFrame, bootstrap_size: int = 1000, alpha: float = 0.05):\n",
    "    '''Estimate confidence intervals for data in a pandas dataframe by bootstrapping'''\n",
    "    bootstrap_samples = np.empty((bootstrap_size,))\n",
    "    for i in range(bootstrap_size):\n",
    "        resample_index = np.random.choice(measurements.index,size=measurements.shape[0])\n",
    "        bootstrap_samples[i] = np.median(measurements['frame-to-frame microtubule tip velocity'][resample_index])\n",
    "    lower_bound = alpha * 100 / 2\n",
    "    upper_bound = 100 - lower_bound\n",
    "    return np.percentile(bootstrap_samples,[lower_bound, upper_bound])"
   ]
  },
  {
   "cell_type": "code",
   "execution_count": 28,
   "id": "1e64ccc1",
   "metadata": {},
   "outputs": [
    {
     "name": "stdout",
     "output_type": "stream",
     "text": [
      "Confidence interval 1: [774.35920781 785.24821312]\n",
      "Confidence interval 2: [778.20041853 793.3309894 ]\n"
     ]
    }
   ],
   "source": [
    "# Fixed seed for reproducibility\n",
    "np.random.seed(42)\n",
    "\n",
    "# extract data for the individual controls\n",
    "control1 = controls[controls['file name'] == '2015-12-12_Run_1_AMPPNP_row_1_ATP_1_107.nd2']\n",
    "control2 = controls[controls['file name'] == '2015-12-12_Run_1_AMPPNP_row_1_ATP_2_108.nd2']\n",
    "\n",
    "confidence_interval1 = get_confidence_interval_by_bootstrapping(control1)\n",
    "confidence_interval2 = get_confidence_interval_by_bootstrapping(control2)\n",
    "print('Confidence interval 1: {}\\nConfidence interval 2: {}'.format(confidence_interval1, confidence_interval2))\n"
   ]
  },
  {
   "cell_type": "markdown",
   "id": "1fdcded1",
   "metadata": {},
   "source": [
    "Our confidence intervals are overlapping, so it was o.k. to combine them in our graph above."
   ]
  },
  {
   "cell_type": "code",
   "execution_count": 29,
   "id": "068d0ca6",
   "metadata": {},
   "outputs": [
    {
     "data": {
      "text/html": [
       "<div>\n",
       "<style scoped>\n",
       "    .dataframe tbody tr th:only-of-type {\n",
       "        vertical-align: middle;\n",
       "    }\n",
       "\n",
       "    .dataframe tbody tr th {\n",
       "        vertical-align: top;\n",
       "    }\n",
       "\n",
       "    .dataframe thead th {\n",
       "        text-align: right;\n",
       "    }\n",
       "</style>\n",
       "<table border=\"1\" class=\"dataframe\">\n",
       "  <thead>\n",
       "    <tr style=\"text-align: right;\">\n",
       "      <th></th>\n",
       "      <th>AMPPNP concentration</th>\n",
       "      <th>file name</th>\n",
       "      <th>microtubule ID</th>\n",
       "      <th>frame-to-frame microtubule tip velocity</th>\n",
       "    </tr>\n",
       "  </thead>\n",
       "  <tbody>\n",
       "    <tr>\n",
       "      <th>0</th>\n",
       "      <td>100</td>\n",
       "      <td>2015-12-12_Run_1_AMPPNP_row_1_0100_1_119.nd2</td>\n",
       "      <td>0</td>\n",
       "      <td>889.268843</td>\n",
       "    </tr>\n",
       "    <tr>\n",
       "      <th>1</th>\n",
       "      <td>100</td>\n",
       "      <td>2015-12-12_Run_1_AMPPNP_row_1_0100_1_119.nd2</td>\n",
       "      <td>0</td>\n",
       "      <td>859.854055</td>\n",
       "    </tr>\n",
       "    <tr>\n",
       "      <th>2</th>\n",
       "      <td>100</td>\n",
       "      <td>2015-12-12_Run_1_AMPPNP_row_1_0100_1_119.nd2</td>\n",
       "      <td>0</td>\n",
       "      <td>493.120518</td>\n",
       "    </tr>\n",
       "    <tr>\n",
       "      <th>3</th>\n",
       "      <td>100</td>\n",
       "      <td>2015-12-12_Run_1_AMPPNP_row_1_0100_1_119.nd2</td>\n",
       "      <td>0</td>\n",
       "      <td>792.180836</td>\n",
       "    </tr>\n",
       "    <tr>\n",
       "      <th>4</th>\n",
       "      <td>100</td>\n",
       "      <td>2015-12-12_Run_1_AMPPNP_row_1_0100_1_119.nd2</td>\n",
       "      <td>0</td>\n",
       "      <td>963.193758</td>\n",
       "    </tr>\n",
       "  </tbody>\n",
       "</table>\n",
       "</div>"
      ],
      "text/plain": [
       "   AMPPNP concentration                                     file name  \\\n",
       "0                   100  2015-12-12_Run_1_AMPPNP_row_1_0100_1_119.nd2   \n",
       "1                   100  2015-12-12_Run_1_AMPPNP_row_1_0100_1_119.nd2   \n",
       "2                   100  2015-12-12_Run_1_AMPPNP_row_1_0100_1_119.nd2   \n",
       "3                   100  2015-12-12_Run_1_AMPPNP_row_1_0100_1_119.nd2   \n",
       "4                   100  2015-12-12_Run_1_AMPPNP_row_1_0100_1_119.nd2   \n",
       "\n",
       "   microtubule ID  frame-to-frame microtubule tip velocity  \n",
       "0               0                               889.268843  \n",
       "1               0                               859.854055  \n",
       "2               0                               493.120518  \n",
       "3               0                               792.180836  \n",
       "4               0                               963.193758  "
      ]
     },
     "execution_count": 29,
     "metadata": {},
     "output_type": "execute_result"
    }
   ],
   "source": [
    "df.head()"
   ]
  },
  {
   "attachments": {},
   "cell_type": "markdown",
   "id": "57313617",
   "metadata": {},
   "source": [
    "# Exercises - Improving performance\n",
    "\n",
    "Depending on the size of your data and the complexity of the function you use to calculate $\\hat\\theta$, bootstrapping can take quite some time. The computational effort required for bootsrapping was the reason, why bootstrapping was not immediately adopted by the scientific community at the time it was invented by Bradley Efron in 1979. But nowadays, with powerful computers widely available, that is not a problem any more. Considering that your experiment probably took days or even weeks, it is o.k. if the data analysis takes a few minutes or even hours. Consider it a matter of respect for your data to analyze it properly.\n",
    "\n",
    "However, in our case, there is actually something we can do about the time the calculations are taking. Pandas is nice and all, but performance is not its strong suit. Numpy is much faster - particularly in combination with just-in-time compilation facilitated by numba. \n",
    "\n",
    "## Exercise 1\n",
    "Let's convert our data to numpy arrays and try `get_confidence_interval_by_bootstrapping` again.\n",
    "\n",
    "Tip: the numpy data can be retrieved from the `values` property of the pandas dataframe"
   ]
  },
  {
   "cell_type": "code",
   "execution_count": null,
   "id": "2e1c6b37",
   "metadata": {},
   "outputs": [],
   "source": []
  },
  {
   "attachments": {},
   "cell_type": "markdown",
   "id": "6e266ebe",
   "metadata": {},
   "source": [
    "## Exercise 2\n",
    "Let's make our function more modular, so we don't need to rewrite the whole thing every time we change the data type.\n",
    "Split the function into three parts:\n"
   ]
  },
  {
   "cell_type": "code",
   "execution_count": 30,
   "id": "0ebf7099",
   "metadata": {},
   "outputs": [],
   "source": [
    "#Turn get_confidence_interval_by_bootstrapping\n",
    "# into three functions:\n",
    "def draw_bootstrap_sample(measurements: np.ndarray):\n",
    "    \"\"\"Draw a bootstrap sample from a 1D data set.\"\"\"\n",
    "    \n",
    "def bootstrap_median(measurements: np.ndarray, bootstrap_size=1000):\n",
    "    \"\"\"Apply a function to many boostrap samples.\"\"\"\n",
    "\n",
    "def get_confidence_interval(boostrap_replicates: np.ndarray, alpha: float = 0.05):\n",
    "    \"\"\"Calculate the confidence interval with conficence level alpha from bootstrap replicates\"\"\"\n"
   ]
  },
  {
   "attachments": {},
   "cell_type": "markdown",
   "id": "ffbf1bb0",
   "metadata": {},
   "source": [
    "## Exercise 3:\n",
    "\n",
    "Apply your new functions to the data to calculate confidence intervals. Make sure that the results are the same as before"
   ]
  },
  {
   "cell_type": "code",
   "execution_count": null,
   "id": "37a1719f",
   "metadata": {},
   "outputs": [],
   "source": []
  },
  {
   "attachments": {},
   "cell_type": "markdown",
   "id": "1f65c13a",
   "metadata": {},
   "source": [
    "## Exercise 4:\n",
    "\n",
    "Let's benchmark our two functions using the `%timeit` jupyter magic:\n"
   ]
  },
  {
   "cell_type": "code",
   "execution_count": 31,
   "id": "15595e9b",
   "metadata": {},
   "outputs": [
    {
     "name": "stdout",
     "output_type": "stream",
     "text": [
      "pandas:\n",
      "numpy/numba:\n"
     ]
    }
   ],
   "source": [
    "\n",
    "print('pandas:')\n",
    "%timeit \n",
    "\n",
    "print('numpy/numba:')\n",
    "%timeit \n"
   ]
  }
 ],
 "metadata": {
  "kernelspec": {
   "display_name": "Python 3 (ipykernel)",
   "language": "python",
   "name": "python3"
  },
  "language_info": {
   "codemirror_mode": {
    "name": "ipython",
    "version": 3
   },
   "file_extension": ".py",
   "mimetype": "text/x-python",
   "name": "python",
   "nbconvert_exporter": "python",
   "pygments_lexer": "ipython3",
   "version": "3.9.13 | packaged by conda-forge | (main, May 27 2022, 17:00:33) \n[Clang 13.0.1 ]"
  },
  "vscode": {
   "interpreter": {
    "hash": "f13a533d7f6b525f1b9e27d74dd8bd7ea06c4c95ae7aaf0187c7426193b5690e"
   }
  }
 },
 "nbformat": 4,
 "nbformat_minor": 5
}
